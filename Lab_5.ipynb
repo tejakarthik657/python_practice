{
 "cells": [
  {
   "cell_type": "code",
   "execution_count": 1,
   "id": "7c3a41c5-3c4b-47b0-a408-6617ce492105",
   "metadata": {},
   "outputs": [
    {
     "name": "stdin",
     "output_type": "stream",
     "text": [
      "Enter a string:  sdfgh\n"
     ]
    },
    {
     "name": "stdout",
     "output_type": "stream",
     "text": [
      "Upper: SDFGH\n",
      "Lower: sdfgh\n",
      "Title: Sdfgh\n",
      "Replace a->x: sdfgh\n",
      "Split: ['sdfgh']\n",
      "Join with - : s-d-f-g-h\n"
     ]
    }
   ],
   "source": [
    "# SP-1: Python program to demonstrate python built in string functions\n",
    "s=input(\"Enter a string: \")\n",
    "print(\"Upper:\",s.upper())\n",
    "print(\"Lower:\",s.lower())\n",
    "print(\"Title:\",s.title())\n",
    "print(\"Replace a->x:\",s.replace('a','x'))\n",
    "print(\"Split:\",s.split())\n",
    "print(\"Join with - :\",'-'.join(s))"
   ]
  },
  {
   "cell_type": "code",
   "execution_count": 2,
   "id": "f088aa75-14c9-454b-8661-e0337b73567b",
   "metadata": {},
   "outputs": [
    {
     "name": "stdin",
     "output_type": "stream",
     "text": [
      "Enter a sentence:  hjdfgh\n"
     ]
    },
    {
     "name": "stdout",
     "output_type": "stream",
     "text": [
      "hjdfgh 6\n"
     ]
    }
   ],
   "source": [
    "# SP-2: Write Python program to sort words in a sentence in decreasing order of their length. Display the sorted words along with their length.\n",
    "sentence=input(\"Enter a sentence: \")\n",
    "words=sentence.split()\n",
    "words.sort(key=len,reverse=True)\n",
    "for w in words:\n",
    "    print(w,len(w))"
   ]
  },
  {
   "cell_type": "code",
   "execution_count": 3,
   "id": "5d6c54f0-87bb-413a-a253-abf6332a8236",
   "metadata": {},
   "outputs": [
    {
     "name": "stdin",
     "output_type": "stream",
     "text": [
      "Enter a string:  dfghjk\n"
     ]
    },
    {
     "name": "stdout",
     "output_type": "stream",
     "text": [
      "Strings are immutable\n"
     ]
    }
   ],
   "source": [
    "# EP-1: Develop python program to demonstrate python strings are immutable.\n",
    "s=input(\"Enter a string: \")\n",
    "try:\n",
    "    s[0]='X'\n",
    "except TypeError:\n",
    "    print(\"Strings are immutable\")"
   ]
  },
  {
   "cell_type": "code",
   "execution_count": 5,
   "id": "cae51a4e-2f6b-4656-bfe0-e3cf92bb252d",
   "metadata": {},
   "outputs": [
    {
     "name": "stdin",
     "output_type": "stream",
     "text": [
      "Enter a string:  dfgh\n",
      "Enter substring:  gh\n"
     ]
    },
    {
     "name": "stdout",
     "output_type": "stream",
     "text": [
      "Count: 1\n",
      "Find: 2\n",
      "Index: 2\n",
      "Rfind: 2\n",
      "Rindex: 2\n"
     ]
    }
   ],
   "source": [
    "# EP-2: Develop python program to demonstrate count(), find(), index(), rfind(), rindex() methods of string class.\n",
    "s=input(\"Enter a string: \")\n",
    "sub=input(\"Enter substring: \")\n",
    "print(\"Count:\",s.count(sub))\n",
    "print(\"Find:\",s.find(sub))\n",
    "print(\"Index:\",s.index(sub))\n",
    "print(\"Rfind:\",s.rfind(sub))\n",
    "print(\"Rindex:\",s.rindex(sub))"
   ]
  },
  {
   "cell_type": "code",
   "execution_count": 6,
   "id": "6ba40ae9-aca6-4d5a-a7a9-88dce2643c15",
   "metadata": {},
   "outputs": [
    {
     "name": "stdin",
     "output_type": "stream",
     "text": [
      "Enter a string:  ghjk\n"
     ]
    },
    {
     "name": "stdout",
     "output_type": "stream",
     "text": [
      "Capitalize: Ghjk\n",
      "Center(20,'*'): ********ghjk********\n",
      "Ljust(20,'-'): ghjk----------------\n",
      "Rjust(20,'-'): ----------------ghjk\n"
     ]
    }
   ],
   "source": [
    "# EP-3: Develop python program to demonstrate capitalize(), center(), ljust(), rjust() methods of string class.\n",
    "s=input(\"Enter a string: \")\n",
    "print(\"Capitalize:\",s.capitalize())\n",
    "print(\"Center(20,'*'):\",s.center(20,'*'))\n",
    "print(\"Ljust(20,'-'):\",s.ljust(20,'-'))\n",
    "print(\"Rjust(20,'-'):\",s.rjust(20,'-'))"
   ]
  },
  {
   "cell_type": "code",
   "execution_count": 7,
   "id": "d80c650a-3d95-40b4-bbae-c5f4b9376dd2",
   "metadata": {},
   "outputs": [
    {
     "name": "stdin",
     "output_type": "stream",
     "text": [
      "Enter a string:  karthik\n"
     ]
    },
    {
     "name": "stdout",
     "output_type": "stream",
     "text": [
      "isalnum: True\n",
      "isalpha: True\n",
      "isdigit: False\n",
      "islower: True\n",
      "isupper: False\n",
      "isspace: False\n"
     ]
    }
   ],
   "source": [
    "# EP-4: Develop python program to demonstrate isalnum(), isalpha(), isdigit(), islower(), isupper(), isspace() methods of string class.\n",
    "s=input(\"Enter a string: \")\n",
    "print(\"isalnum:\",s.isalnum())\n",
    "print(\"isalpha:\",s.isalpha())\n",
    "print(\"isdigit:\",s.isdigit())\n",
    "print(\"islower:\",s.islower())\n",
    "print(\"isupper:\",s.isupper())\n",
    "print(\"isspace:\",s.isspace())"
   ]
  },
  {
   "cell_type": "code",
   "execution_count": 8,
   "id": "496ee32b-8fbc-4c01-bbf2-bea780be96b0",
   "metadata": {},
   "outputs": [
    {
     "name": "stdin",
     "output_type": "stream",
     "text": [
      "Enter a string:  karthik\n"
     ]
    },
    {
     "name": "stdout",
     "output_type": "stream",
     "text": [
      "Slice s[2:8]: rthik\n",
      "Stride s[::2]: krhk\n",
      "Reverse s[::-1]: kihtrak\n"
     ]
    }
   ],
   "source": [
    "# EP-5: Develop python program to demonstrate slice and stride options of string class.\n",
    "s=input(\"Enter a string: \")\n",
    "print(\"Slice s[2:8]:\",s[2:8])\n",
    "print(\"Stride s[::2]:\",s[::2])\n",
    "print(\"Reverse s[::-1]:\",s[::-1])"
   ]
  },
  {
   "cell_type": "code",
   "execution_count": 9,
   "id": "c241407f-e924-4bff-95c4-250c06311829",
   "metadata": {},
   "outputs": [
    {
     "name": "stdin",
     "output_type": "stream",
     "text": [
      "Enter a string:  karthik\n"
     ]
    },
    {
     "name": "stdout",
     "output_type": "stream",
     "text": [
      "Not Palindrome\n"
     ]
    }
   ],
   "source": [
    "# EP-6: Develop python program to check given string is palindrome or what else using stride and comparative operators.\n",
    "s=input(\"Enter a string: \")\n",
    "print(\"Palindrome\" if s==s[::-1] else \"Not Palindrome\")"
   ]
  },
  {
   "cell_type": "code",
   "execution_count": 10,
   "id": "de6630ae-7b1f-4ad1-9995-85f9ab468154",
   "metadata": {},
   "outputs": [
    {
     "name": "stdin",
     "output_type": "stream",
     "text": [
      "Enter a string:  karthik\n"
     ]
    },
    {
     "name": "stdout",
     "output_type": "stream",
     "text": [
      "krhk\n"
     ]
    }
   ],
   "source": [
    "# EP-7: Develop python program to print given string skipping alternate letters using while and string index.\n",
    "s=input(\"Enter a string: \")\n",
    "i=0\n",
    "while i<len(s):\n",
    "    print(s[i],end=\"\")\n",
    "    i+=2\n",
    "print()"
   ]
  },
  {
   "cell_type": "code",
   "execution_count": 11,
   "id": "e6dd98df-5a0e-4e03-8e9d-79b11d7dc6f5",
   "metadata": {},
   "outputs": [
    {
     "name": "stdin",
     "output_type": "stream",
     "text": [
      "Enter a string:  karthik\n"
     ]
    },
    {
     "name": "stdout",
     "output_type": "stream",
     "text": [
      "Vowel count: 2\n"
     ]
    }
   ],
   "source": [
    "# EP-8: Develop python program to count number of vowels in given string? Problem Description:\n",
    "s=input(\"Enter a string: \").lower()\n",
    "vowels=\"aeiou\"\n",
    "count=sum(1 for c in s if c in vowels)\n",
    "print(\"Vowel count:\",count)"
   ]
  },
  {
   "cell_type": "code",
   "execution_count": 12,
   "id": "60224417-dfa7-48bf-a61a-3432b0bca914",
   "metadata": {},
   "outputs": [
    {
     "name": "stdin",
     "output_type": "stream",
     "text": [
      "Enter a string:  karthik\n"
     ]
    },
    {
     "name": "stdout",
     "output_type": "stream",
     "text": [
      "All digits: []\n",
      "All words: ['karthik']\n"
     ]
    }
   ],
   "source": [
    "# EP-9: Python program to demonstrate regular expression operations on strings.\n",
    "import re\n",
    "s=input(\"Enter a string: \")\n",
    "print(\"All digits:\",re.findall(r'\\d',s))\n",
    "print(\"All words:\",re.findall(r'\\w+',s))"
   ]
  },
  {
   "cell_type": "code",
   "execution_count": 13,
   "id": "9c80432b-d0a5-4106-9e1a-4e1e2d9c67f2",
   "metadata": {},
   "outputs": [
    {
     "name": "stdin",
     "output_type": "stream",
     "text": [
      "Enter a string:  karthik\n"
     ]
    },
    {
     "name": "stdout",
     "output_type": "stream",
     "text": [
      "Matched: karthik\n"
     ]
    }
   ],
   "source": [
    "# EP-10: Develop python program to demonstrate search method along with flags, character and group flags of regular expression package.\n",
    "import re\n",
    "s=input(\"Enter a string: \")\n",
    "m=re.search(r'([a-z]+)',s,re.I)\n",
    "if m: print(\"Matched:\",m.group())"
   ]
  },
  {
   "cell_type": "code",
   "execution_count": 14,
   "id": "a87cd75b-ce12-43a9-96ea-9630419b6de2",
   "metadata": {},
   "outputs": [
    {
     "name": "stdin",
     "output_type": "stream",
     "text": [
      "Enter a string:  karthik\n"
     ]
    },
    {
     "name": "stdout",
     "output_type": "stream",
     "text": [
      "Split by digits: ['karthik']\n",
      "Substitute digits with *: karthik\n"
     ]
    }
   ],
   "source": [
    "# EP-11: Develop python program to demonstrate sub and split method along with flags of regular expression package.\n",
    "import re\n",
    "s=input(\"Enter a string: \")\n",
    "print(\"Split by digits:\",re.split(r'\\d+',s))\n",
    "print(\"Substitute digits with *:\",re.sub(r'\\d','*',s))"
   ]
  },
  {
   "cell_type": "code",
   "execution_count": 15,
   "id": "1d0297c0-278d-446b-a218-f4e176134cf5",
   "metadata": {},
   "outputs": [
    {
     "name": "stdin",
     "output_type": "stream",
     "text": [
      "Enter a string:  karthik\n"
     ]
    },
    {
     "name": "stdout",
     "output_type": "stream",
     "text": [
      "i : 1\n",
      "r : 1\n",
      "h : 1\n",
      "k : 2\n",
      "a : 1\n",
      "t : 1\n"
     ]
    }
   ],
   "source": [
    "# EP-12: Develop python program to count number of occurrences of each character in given string?\n",
    "s=input(\"Enter a string: \")\n",
    "for ch in set(s):\n",
    "    print(ch,\":\",s.count(ch))"
   ]
  },
  {
   "cell_type": "code",
   "execution_count": 16,
   "id": "f9484982-2732-449c-9459-02e6e6bf0d0d",
   "metadata": {},
   "outputs": [
    {
     "name": "stdin",
     "output_type": "stream",
     "text": [
      "Enter a string:  karthik\n",
      "Enter start index:  2\n",
      "Enter end index:  4\n"
     ]
    },
    {
     "name": "stdout",
     "output_type": "stream",
     "text": [
      "Substring: rt\n"
     ]
    }
   ],
   "source": [
    "# EP-13: Python program to demonstrate Extract a sub-string from a string using slice operation.\n",
    "s=input(\"Enter a string: \")\n",
    "start=int(input(\"Enter start index: \"))\n",
    "end=int(input(\"Enter end index: \"))\n",
    "print(\"Substring:\",s[start:end])"
   ]
  },
  {
   "cell_type": "code",
   "execution_count": 17,
   "id": "871e41e5-9b9f-4378-8fd5-8e7cc3e01efb",
   "metadata": {},
   "outputs": [
    {
     "name": "stdin",
     "output_type": "stream",
     "text": [
      "Enter password:  12345\n"
     ]
    },
    {
     "name": "stdout",
     "output_type": "stream",
     "text": [
      "Invalid Password\n"
     ]
    }
   ],
   "source": [
    "\n",
    "# EP-14: Write a Python program to check the validity of a password given by the user. \n",
    "import re\n",
    "p=input(\"Enter password: \")\n",
    "if (len(p)>=6 and re.search(r'[a-z]',p) and re.search(r'[A-Z]',p) and \n",
    "    re.search(r'[0-9]',p) and re.search(r'[$#@]',p)):\n",
    "    print(\"Valid Password\")\n",
    "else:\n",
    "    print(\"Invalid Password\")"
   ]
  },
  {
   "cell_type": "code",
   "execution_count": 18,
   "id": "ea84cd80-50fd-458e-8ea8-0a2dc83fd1de",
   "metadata": {},
   "outputs": [
    {
     "name": "stdin",
     "output_type": "stream",
     "text": [
      "Enter strings separated by space:  ghj\n"
     ]
    },
    {
     "name": "stdout",
     "output_type": "stream",
     "text": [
      "ghj : {'g', 'h', 'j'}\n"
     ]
    }
   ],
   "source": [
    "# EP-15: Write a function which receives a variable number of strings as arguments. Find unique characters in each string.\n",
    "def unique_chars(*strings):\n",
    "    for s in strings:\n",
    "        print(s,\":\",set(s))\n",
    "unique_chars(*input(\"Enter strings separated by space: \").split())"
   ]
  },
  {
   "cell_type": "code",
   "execution_count": 19,
   "id": "bd96b44a-bc37-47ec-9dc8-3335af405598",
   "metadata": {},
   "outputs": [
    {
     "name": "stdin",
     "output_type": "stream",
     "text": [
      "Enter a string:  sdf\n"
     ]
    },
    {
     "name": "stdout",
     "output_type": "stream",
     "text": [
      "sf\n"
     ]
    }
   ],
   "source": [
    "# EP-16: Develop python program to print given string skipping alternate letters using while and string index.\n",
    "s=input(\"Enter a string: \")\n",
    "i=0\n",
    "while i<len(s):\n",
    "    print(s[i],end=\"\")\n",
    "    i+=2\n",
    "print()"
   ]
  },
  {
   "cell_type": "code",
   "execution_count": 20,
   "id": "13f0040d-1402-4af6-9718-dd3a1bb1353f",
   "metadata": {},
   "outputs": [
    {
     "name": "stdin",
     "output_type": "stream",
     "text": [
      "Enter line:  asdf\n"
     ]
    }
   ],
   "source": [
    "# EP-17: Consider a line “From nag.sangepu@kitsw.ac.in Wed June 28 09:14:16 2023” .\n",
    "import re\n",
    "line=input(\"Enter line: \")\n",
    "m=re.search(r'From\\s+([A-Za-z0-9._%+-]+@[A-Za-z0-9.-]+\\.[A-Za-z]{2,})',line)\n",
    "if m: print(\"Email:\",m.group(1))"
   ]
  },
  {
   "cell_type": "code",
   "execution_count": 21,
   "id": "7776fa19-032f-40c5-a47a-f55d532700fa",
   "metadata": {},
   "outputs": [
    {
     "name": "stdin",
     "output_type": "stream",
     "text": [
      "Enter filename:  asd\n"
     ]
    },
    {
     "name": "stdout",
     "output_type": "stream",
     "text": [
      "Invalid MSDOS filename\n"
     ]
    }
   ],
   "source": [
    "# EP-18: the MSDOS OS support short filenames with 6 characters before ‘.’ And 3 characters for extension.\n",
    "import re\n",
    "f=input(\"Enter filename: \")\n",
    "if re.fullmatch(r'[A-Za-z0-9]{1,6}\\.[A-Za-z0-9]{1,3}',f):\n",
    "    print(\"Valid MSDOS filename\")\n",
    "else:\n",
    "    print(\"Invalid MSDOS filename\")"
   ]
  },
  {
   "cell_type": "code",
   "execution_count": null,
   "id": "15d6d04a-e2da-4ae1-bae3-6cd53f3359de",
   "metadata": {},
   "outputs": [],
   "source": []
  }
 ],
 "metadata": {
  "kernelspec": {
   "display_name": "Python 3 (ipykernel)",
   "language": "python",
   "name": "python3"
  },
  "language_info": {
   "codemirror_mode": {
    "name": "ipython",
    "version": 3
   },
   "file_extension": ".py",
   "mimetype": "text/x-python",
   "name": "python",
   "nbconvert_exporter": "python",
   "pygments_lexer": "ipython3",
   "version": "3.13.5"
  }
 },
 "nbformat": 4,
 "nbformat_minor": 5
}
