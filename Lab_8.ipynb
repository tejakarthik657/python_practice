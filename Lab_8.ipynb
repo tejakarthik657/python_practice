{
 "cells": [
  {
   "cell_type": "code",
   "execution_count": null,
   "id": "b8aaf5ed-697b-4dc9-8702-47a46a62f423",
   "metadata": {},
   "outputs": [],
   "source": [
    "# SP-1: Python program to demonstrate exception handling \n",
    "# Handles Divide by Zero and ValueError exceptions.\n",
    "\n",
    "try:\n",
    "    num1 = int(input(\"Enter the numerator: \"))\n",
    "    num2 = int(input(\"Enter the denominator: \"))\n",
    "    result = num1 / num2\n",
    "    print(\"Result:\", result)\n",
    "except ZeroDivisionError:\n",
    "    print(\"Error: Division by zero is not allowed.\")\n",
    "except ValueError:\n",
    "    print(\"Error: Invalid input. Please enter a valid number.\")\n",
    "\n",
    "try:\n",
    "    num = int(input(\"Enter a number: \"))\n",
    "    print(\"Converted number:\", num)\n",
    "except ValueError:\n",
    "    print(\"Error: Invalid input. Please enter a valid number.\")\n"
   ]
  },
  {
   "cell_type": "code",
   "execution_count": null,
   "id": "7411e413-64c0-40ca-a912-251c5f453bd3",
   "metadata": {},
   "outputs": [],
   "source": [
    "# SP-2: Python program to demonstrate file operations (write, read, append)\n",
    "\n",
    "f = \"output.txt\"\n",
    "print(\"1.Write  2.Read  3.Append\")\n",
    "ch = input(\"Enter choice: \")\n",
    "\n",
    "if ch == '1':\n",
    "    with open(f, \"w\") as x: x.write(input(\"Enter text: \") + \"\\n\")\n",
    "    print(\"Written successfully!\")\n",
    "elif ch == '2':\n",
    "    try:\n",
    "        with open(f) as x: print(\"File content:\\n\", x.read())\n",
    "    except FileNotFoundError:\n",
    "        print(\"File not found!\")\n",
    "elif ch == '3':\n",
    "    with open(f, \"a\") as x: x.write(input(\"Enter text to append: \") + \"\\n\")\n",
    "    print(\"Appended successfully!\")\n",
    "else:\n",
    "    print(\"Invalid choice!\")\n"
   ]
  },
  {
   "cell_type": "code",
   "execution_count": null,
   "id": "92e1640a-93dd-4234-be11-25eb8c8be570",
   "metadata": {},
   "outputs": [],
   "source": [
    "# EP-1: Python program to demonstrate exception handling \n",
    "# using try and multiple except blocks.\n",
    "\n",
    "try:\n",
    "    a = int(input(\"Enter numerator: \"))\n",
    "    b = int(input(\"Enter denominator: \"))\n",
    "    result = a / b\n",
    "    print(\"Result:\", result)\n",
    "except ZeroDivisionError:\n",
    "    print(\"Error: Cannot divide by zero.\")\n",
    "except ValueError:\n",
    "    print(\"Error: Invalid input. Please enter numbers only.\")\n",
    "except Exception as e:\n",
    "    print(\"Unexpected error:\", e)\n"
   ]
  },
  {
   "cell_type": "code",
   "execution_count": null,
   "id": "aeaa9e46-5f59-477f-906a-271de05e7262",
   "metadata": {},
   "outputs": [],
   "source": [
    "# EP-2: Python program to demonstrate exception handling \n",
    "# using try and single except block for multiple errors.\n",
    "\n",
    "try:\n",
    "    a = int(input(\"Enter numerator: \"))\n",
    "    b = int(input(\"Enter denominator: \"))\n",
    "    print(\"Result:\", a / b)\n",
    "except (ZeroDivisionError, ValueError) as e:\n",
    "    print(\"Error occurred:\", e)\n"
   ]
  },
  {
   "cell_type": "code",
   "execution_count": null,
   "id": "d4d8f97c-5e4e-4a34-9df8-aec78ecc4d31",
   "metadata": {},
   "outputs": [],
   "source": [
    "# EP-3: Python program to demonstrate the use of else block in exceptions.\n",
    "\n",
    "try:\n",
    "    a = int(input(\"Enter numerator: \"))\n",
    "    b = int(input(\"Enter denominator: \"))\n",
    "    result = a / b\n",
    "except ZeroDivisionError:\n",
    "    print(\"Error: Cannot divide by zero.\")\n",
    "except ValueError:\n",
    "    print(\"Error: Please enter valid numbers only.\")\n",
    "else:\n",
    "    print(\"Division successful! Result:\", result)\n"
   ]
  },
  {
   "cell_type": "code",
   "execution_count": null,
   "id": "2d9b58d1-9dde-4140-a3af-6aa0a4ca0a33",
   "metadata": {},
   "outputs": [],
   "source": [
    "# EP-4: Python program to demonstrate raise exception.\n",
    "\n",
    "try:\n",
    "    num = int(input(\"Enter a positive number: \"))\n",
    "    if num < 0:\n",
    "        raise ValueError(\"Negative numbers are not allowed.\")\n",
    "    print(\"You entered:\", num)\n",
    "except ValueError as e:\n",
    "    print(\"Error:\", e)\n"
   ]
  },
  {
   "cell_type": "code",
   "execution_count": null,
   "id": "de888967-c762-4c2b-aa63-03950862d0e0",
   "metadata": {},
   "outputs": [],
   "source": [
    "# EP-5: Python program to demonstrate instantiating an exception.\n",
    "\n",
    "try:\n",
    "    a = int(input(\"Enter numerator: \"))\n",
    "    b = int(input(\"Enter denominator: \"))\n",
    "    if b == 0:\n",
    "        raise ZeroDivisionError(\"You tried to divide by zero!\")  # instantiating exception\n",
    "    print(\"Result:\", a / b)\n",
    "except ZeroDivisionError as e:\n",
    "    print(\"Error:\", e)\n",
    "except ValueError as e:\n",
    "    print(\"Error: Invalid input!\", e)\n"
   ]
  },
  {
   "cell_type": "code",
   "execution_count": null,
   "id": "fc74ed72-c153-4d70-8673-0d7692a4110e",
   "metadata": {},
   "outputs": [],
   "source": [
    "# EP-6: Python program to demonstrate handling an exception raised from a function.\n",
    "\n",
    "def divide(a, b):\n",
    "    if b == 0:\n",
    "        raise ZeroDivisionError(\"Division by zero is not allowed!\")  # exception raised in function\n",
    "    return a / b\n",
    "\n",
    "try:\n",
    "    x = int(input(\"Enter numerator: \"))\n",
    "    y = int(input(\"Enter denominator: \"))\n",
    "    print(\"Result:\", divide(x, y))\n",
    "except ZeroDivisionError as e:\n",
    "    print(\"Error:\", e)\n",
    "except ValueError:\n",
    "    print(\"Error: Please enter valid numbers only.\")\n"
   ]
  },
  {
   "cell_type": "code",
   "execution_count": null,
   "id": "3f2000aa-2586-4111-bf18-ea657d01bd3a",
   "metadata": {},
   "outputs": [],
   "source": [
    "# EP-7: Python program to write content into a file and read the same file.\n",
    "\n",
    "# Writing to file\n",
    "with open(\"sample.txt\", \"w\") as f:\n",
    "    f.write(\"Hello, this is a sample file.\\nWelcome to Python file handling!\")\n",
    "\n",
    "print(\"Content written successfully!\")\n",
    "\n",
    "# Reading from file\n",
    "with open(\"sample.txt\", \"r\") as f:\n",
    "    content = f.read()\n",
    "    print(\"\\nFile content:\\n\", content)\n"
   ]
  },
  {
   "cell_type": "code",
   "execution_count": null,
   "id": "b2db33e0-a14b-4c10-be95-de9d84432524",
   "metadata": {},
   "outputs": [],
   "source": [
    "# EP-8: Python program to merge two files into one file.\n",
    "\n",
    "# Writing sample content to two files\n",
    "with open(\"file1.txt\", \"w\") as f1:\n",
    "    f1.write(\"This is File 1.\\nIt has some content.\\n\")\n",
    "\n",
    "with open(\"file2.txt\", \"w\") as f2:\n",
    "    f2.write(\"This is File 2.\\nIt also has some content.\\n\")\n",
    "\n",
    "# Merging both files into one\n",
    "with open(\"merged.txt\", \"w\") as mf, open(\"file1.txt\", \"r\") as f1, open(\"file2.txt\", \"r\") as f2:\n",
    "    mf.write(f1.read())\n",
    "    mf.write(f2.read())\n",
    "\n",
    "print(\"Files merged successfully!\")\n",
    "\n",
    "# Display merged content\n",
    "with open(\"merged.txt\", \"r\") as mf:\n",
    "    print(\"\\nMerged File Content:\\n\", mf.read())\n"
   ]
  },
  {
   "cell_type": "code",
   "execution_count": null,
   "id": "f4ebfe5e-bdee-4d01-b7af-0c06cbdb09b6",
   "metadata": {},
   "outputs": [],
   "source": [
    "# EP-9: Python program to copy one file to another file.\n",
    "\n",
    "# Write sample content to source file\n",
    "with open(\"source.txt\", \"w\") as src:\n",
    "    src.write(\"This is the original file.\\nIt will be copied to another file.\")\n",
    "\n",
    "# Copy content from source to destination\n",
    "with open(\"source.txt\", \"r\") as src, open(\"copy.txt\", \"w\") as dest:\n",
    "    dest.write(src.read())\n",
    "\n",
    "print(\"File copied successfully!\")\n",
    "\n",
    "# Display copied content\n",
    "with open(\"copy.txt\", \"r\") as dest:\n",
    "    print(\"\\nCopied File Content:\\n\", dest.read())\n"
   ]
  },
  {
   "cell_type": "code",
   "execution_count": null,
   "id": "eabdfe33-d72f-4fa1-8570-cf271ed209d9",
   "metadata": {},
   "outputs": [],
   "source": [
    "# EP-10: Python program to append content into a file.\n",
    "\n",
    "# Append new content to file\n",
    "with open(\"append.txt\", \"a\") as f:\n",
    "    f.write(\"This is an appended line.\\n\")\n",
    "\n",
    "print(\"Content appended successfully!\")\n",
    "\n",
    "# Read and display the updated file content\n",
    "with open(\"append.txt\", \"r\") as f:\n",
    "    print(\"\\nUpdated File Content:\\n\", f.read())\n"
   ]
  }
 ],
 "metadata": {
  "kernelspec": {
   "display_name": "Python 3 (ipykernel)",
   "language": "python",
   "name": "python3"
  },
  "language_info": {
   "codemirror_mode": {
    "name": "ipython",
    "version": 3
   },
   "file_extension": ".py",
   "mimetype": "text/x-python",
   "name": "python",
   "nbconvert_exporter": "python",
   "pygments_lexer": "ipython3",
   "version": "3.13.5"
  }
 },
 "nbformat": 4,
 "nbformat_minor": 5
}
