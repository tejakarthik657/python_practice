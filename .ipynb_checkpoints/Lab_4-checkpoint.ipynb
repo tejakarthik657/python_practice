{
 "cells": [
  {
   "cell_type": "code",
   "execution_count": 1,
   "id": "02b1de60-e524-4042-85e2-383dfcac49e0",
   "metadata": {},
   "outputs": [
    {
     "name": "stdin",
     "output_type": "stream",
     "text": [
      "Enter a number for square root:  5\n"
     ]
    },
    {
     "name": "stdout",
     "output_type": "stream",
     "text": [
      "Square root: 2.23606797749979\n",
      "Random number between 1 and 10: 2\n"
     ]
    }
   ],
   "source": [
    "# SP-1: Develop python program to demonstrate modules\n",
    "import math,random\n",
    "n=float(input(\"Enter a number for square root: \"))\n",
    "print(\"Square root:\",math.sqrt(n))\n",
    "print(\"Random number between 1 and 10:\",random.randint(1,10))"
   ]
  },
  {
   "cell_type": "code",
   "execution_count": 3,
   "id": "f254d24f-3ada-4d1d-a5ce-2b2b855f3ffa",
   "metadata": {},
   "outputs": [
    {
     "name": "stdin",
     "output_type": "stream",
     "text": [
      "Enter number of disks:  1\n"
     ]
    },
    {
     "name": "stdout",
     "output_type": "stream",
     "text": [
      "A -> C\n"
     ]
    }
   ],
   "source": [
    "# SP-2: Develop a python program to demonstrate Tower of Hanoi using methods\n",
    "def hanoi(n,src,aux,dst):\n",
    "    if n==1:\n",
    "        print(src,\"->\",dst)\n",
    "        return\n",
    "    hanoi(n-1,src,dst,aux)\n",
    "    print(src,\"->\",dst)\n",
    "    hanoi(n-1,aux,src,dst)\n",
    "disks=int(input(\"Enter number of disks: \"))\n",
    "hanoi(disks,\"A\",\"B\",\"C\")"
   ]
  },
  {
   "cell_type": "code",
   "execution_count": 4,
   "id": "1430f642-7d63-4f49-a802-11219e0c4c3b",
   "metadata": {},
   "outputs": [
    {
     "name": "stdout",
     "output_type": "stream",
     "text": [
      "Command line arguments: ['C:\\\\Users\\\\tejak\\\\anaconda3\\\\Lib\\\\site-packages\\\\ipykernel_launcher.py', '-f', 'C:\\\\Users\\\\tejak\\\\AppData\\\\Roaming\\\\jupyter\\\\runtime\\\\kernel-2db39229-f32e-4214-b833-9438404b7124.json']\n"
     ]
    }
   ],
   "source": [
    "# EP-1: Develop python program to demonstrate command line arguments\n",
    "import sys\n",
    "print(\"Command line arguments:\",sys.argv)"
   ]
  },
  {
   "cell_type": "code",
   "execution_count": 5,
   "id": "2fd23182-aace-4556-823f-c421ec5e6e62",
   "metadata": {},
   "outputs": [
    {
     "ename": "ModuleNotFoundError",
     "evalue": "No module named 'mymodul'",
     "output_type": "error",
     "traceback": [
      "\u001b[1;31m---------------------------------------------------------------------------\u001b[0m",
      "\u001b[1;31mModuleNotFoundError\u001b[0m                       Traceback (most recent call last)",
      "Cell \u001b[1;32mIn[5], line 4\u001b[0m\n\u001b[0;32m      1\u001b[0m \u001b[38;5;66;03m# EP-2: Develop a python program to demonstrate creating programmer own module My Modul\u001b[39;00m\n\u001b[0;32m      2\u001b[0m \u001b[38;5;66;03m# create a file mymodul.py with:\u001b[39;00m\n\u001b[0;32m      3\u001b[0m \u001b[38;5;66;03m# def hello(): print(\"Hello from My Modul\")\u001b[39;00m\n\u001b[1;32m----> 4\u001b[0m \u001b[38;5;28;01mimport\u001b[39;00m\u001b[38;5;250m \u001b[39m\u001b[38;5;21;01mmymodul\u001b[39;00m\n\u001b[0;32m      5\u001b[0m mymodul\u001b[38;5;241m.\u001b[39mhello()\n",
      "\u001b[1;31mModuleNotFoundError\u001b[0m: No module named 'mymodul'"
     ]
    }
   ],
   "source": [
    "# EP-2: Develop a python program to demonstrate creating programmer own module My Modul\n",
    "# create a file mymodul.py with:\n",
    "# def hello(): print(\"Hello from My Modul\")\n",
    "import mymodul\n",
    "mymodul.hello()"
   ]
  },
  {
   "cell_type": "code",
   "execution_count": 6,
   "id": "d6a2fb91-e664-4a20-95a6-f43edde95df7",
   "metadata": {},
   "outputs": [
    {
     "name": "stdout",
     "output_type": "stream",
     "text": [
      "Pi: 3.141592653589793 Random: 0.9195944077657916 Today: 2025-09-24\n"
     ]
    }
   ],
   "source": [
    "# EP-3: Develop python program to demonstrate importing many modules into another module\n",
    "import math,random,datetime\n",
    "print(\"Pi:\",math.pi,\"Random:\",random.random(),\"Today:\",datetime.date.today())"
   ]
  },
  {
   "cell_type": "code",
   "execution_count": 7,
   "id": "6c750488-2dea-4fef-a1cd-f7c167d44626",
   "metadata": {},
   "outputs": [
    {
     "name": "stdout",
     "output_type": "stream",
     "text": [
      "Names in math module: ['__doc__', '__loader__', '__name__', '__package__', '__spec__', 'acos', 'acosh', 'asin', 'asinh', 'atan', 'atan2', 'atanh', 'cbrt', 'ceil', 'comb', 'copysign', 'cos', 'cosh', 'degrees', 'dist', 'e', 'erf', 'erfc', 'exp', 'exp2', 'expm1', 'fabs', 'factorial', 'floor', 'fma', 'fmod', 'frexp', 'fsum', 'gamma', 'gcd', 'hypot', 'inf', 'isclose', 'isfinite', 'isinf', 'isnan', 'isqrt', 'lcm', 'ldexp', 'lgamma', 'log', 'log10', 'log1p', 'log2', 'modf', 'nan', 'nextafter', 'perm', 'pi', 'pow', 'prod', 'radians', 'remainder', 'sin', 'sinh', 'sqrt', 'sumprod', 'tan', 'tanh', 'tau', 'trunc', 'ulp']\n"
     ]
    }
   ],
   "source": [
    "# EP-4: Develop python program to demonstrate dir() method.\n",
    "import math\n",
    "print(\"Names in math module:\",dir(math))"
   ]
  },
  {
   "cell_type": "code",
   "execution_count": 8,
   "id": "1c502f91-1a30-4b48-9c0e-c9125c9478fe",
   "metadata": {},
   "outputs": [
    {
     "name": "stdin",
     "output_type": "stream",
     "text": [
      "Enter secret password:  ········\n"
     ]
    },
    {
     "name": "stdout",
     "output_type": "stream",
     "text": [
      "Password length: 3\n"
     ]
    }
   ],
   "source": [
    "# EP-5: Develop python program to print getpass using modules\n",
    "import getpass\n",
    "pwd=getpass.getpass(\"Enter secret password: \")\n",
    "print(\"Password length:\",len(pwd))"
   ]
  },
  {
   "cell_type": "code",
   "execution_count": 10,
   "id": "bb11579b-28a1-4b48-b687-873db8bf7b61",
   "metadata": {},
   "outputs": [
    {
     "name": "stdout",
     "output_type": "stream",
     "text": [
      "Shuffled deck: ['10 of Spades', 'Q of Hearts', 'A of Diamonds', '8 of Spades', '4 of Clubs', '10 of Clubs', '4 of Spades', 'K of Diamonds', 'K of Hearts', '7 of Diamonds', 'Q of Diamonds', 'K of Spades', 'J of Clubs', '2 of Clubs', 'A of Hearts', '4 of Diamonds', '5 of Clubs', 'Q of Clubs', '2 of Spades', '6 of Spades', '3 of Diamonds', '7 of Clubs', '10 of Diamonds', '2 of Hearts', 'Q of Spades', '3 of Spades', 'J of Hearts', '4 of Hearts', '6 of Diamonds', 'A of Clubs', '6 of Clubs', '3 of Clubs', '9 of Hearts', '7 of Spades', '5 of Spades', '5 of Hearts', '10 of Hearts', 'K of Clubs', '9 of Spades', '5 of Diamonds', '2 of Diamonds', '7 of Hearts', 'A of Spades', '8 of Hearts', '6 of Hearts', 'J of Spades', '9 of Diamonds', '8 of Clubs', 'J of Diamonds', '8 of Diamonds', '9 of Clubs', '3 of Hearts']\n"
     ]
    }
   ],
   "source": [
    "# EP-6: Develop python program to implement shuffling a deck of cards\n",
    "import random\n",
    "suits=[\"Hearts\",\"Diamonds\",\"Clubs\",\"Spades\"]\n",
    "ranks=[\"A\",\"2\",\"3\",\"4\",\"5\",\"6\",\"7\",\"8\",\"9\",\"10\",\"J\",\"Q\",\"K\"]\n",
    "deck=[r+\" of \"+s for s in suits for r in ranks]\n",
    "random.shuffle(deck)\n",
    "print(\"Shuffled deck:\",deck)"
   ]
  },
  {
   "cell_type": "code",
   "execution_count": null,
   "id": "67219768-ff5c-48d0-915f-afa178754a4e",
   "metadata": {},
   "outputs": [],
   "source": []
  }
 ],
 "metadata": {
  "kernelspec": {
   "display_name": "Python 3 (ipykernel)",
   "language": "python",
   "name": "python3"
  },
  "language_info": {
   "codemirror_mode": {
    "name": "ipython",
    "version": 3
   },
   "file_extension": ".py",
   "mimetype": "text/x-python",
   "name": "python",
   "nbconvert_exporter": "python",
   "pygments_lexer": "ipython3",
   "version": "3.13.5"
  }
 },
 "nbformat": 4,
 "nbformat_minor": 5
}
