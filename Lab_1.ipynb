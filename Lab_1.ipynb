{
 "cells": [
  {
   "cell_type": "code",
   "execution_count": null,
   "id": "cd942746-d218-4eea-831a-4d04591f2a98",
   "metadata": {},
   "outputs": [],
   "source": [
    "#SP-1: Python interpreter mode script to perform arithmetic operations\n",
    "a = int(input(\"Enter first number: \"))\n",
    "b = int(input(\"Enter second number: \"))\n",
    "print(\"Addition       :\", a + b)\n",
    "print(\"Subtraction    :\", a - b)\n",
    "print(\"Multiplication :\", a * b)\n",
    "print(\"Division       :\", a / b)\n",
    "print(\"Floor Division :\", a // b)\n",
    "print(\"Modulus        :\", a % b)\n",
    "print(\"Exponent       :\", a ** b)"
   ]
  },
  {
   "cell_type": "code",
   "execution_count": 2,
   "id": "0d72d49e-c6d2-4ac7-b621-80dd1f1f7f46",
   "metadata": {},
   "outputs": [
    {
     "name": "stdout",
     "output_type": "stream",
     "text": [
      "False\n",
      "True\n",
      "False\n",
      "True\n"
     ]
    }
   ],
   "source": [
    "#SP-2: Python interpreter mode script to perform logical operations \n",
    "a = True\n",
    "b = False\n",
    "\n",
    "and_result = a and b\n",
    "or_result = a or b\n",
    "not_a = not a\n",
    "not_b = not b\n",
    "\n",
    "print(and_result)\n",
    "print(or_result)\n",
    "print(not_a)\n",
    "print(not_b)"
   ]
  },
  {
   "cell_type": "code",
   "execution_count": 3,
   "id": "c38d1726-d4a7-4e9d-9e7a-fa495159dbf5",
   "metadata": {},
   "outputs": [
    {
     "name": "stdout",
     "output_type": "stream",
     "text": [
      "True\n",
      "True\n",
      "False\n",
      "False\n"
     ]
    }
   ],
   "source": [
    "#SP-3: Python interpreter mode script to perform Identity operations\n",
    "x = 5\n",
    "y = 5\n",
    "z = [1, 2, 3]\n",
    "w = z\n",
    "\n",
    "print(x is y)\n",
    "print(z is w)\n",
    "print(x is not y)\n",
    "print(z is not w)"
   ]
  },
  {
   "cell_type": "code",
   "execution_count": 4,
   "id": "299218cc-ecb2-42cc-b491-84f789e590fc",
   "metadata": {},
   "outputs": [
    {
     "name": "stdin",
     "output_type": "stream",
     "text": [
      " 10\n",
      " 20\n"
     ]
    },
    {
     "name": "stdout",
     "output_type": "stream",
     "text": [
      "False\n",
      "True\n",
      "True\n",
      "False\n",
      "False\n",
      "True\n"
     ]
    }
   ],
   "source": [
    "#EP-1: Develop a python program to demonstrate comparison operators on given input ==,!=, <, >, >=,<=\n",
    "a = int(input())\n",
    "b = int(input())\n",
    "\n",
    "print(a == b)\n",
    "print(a != b)\n",
    "print(a < b)\n",
    "print(a > b)\n",
    "print(a >= b)\n",
    "print(a <= b)"
   ]
  },
  {
   "cell_type": "code",
   "execution_count": 5,
   "id": "38604614-3ec1-400d-a45b-36506a788ef0",
   "metadata": {},
   "outputs": [
    {
     "name": "stdin",
     "output_type": "stream",
     "text": [
      " 10\n",
      " 20\n"
     ]
    },
    {
     "name": "stdout",
     "output_type": "stream",
     "text": [
      "0\n",
      "30\n",
      "30\n",
      "5\n",
      "20\n",
      "-11\n"
     ]
    }
   ],
   "source": [
    "#EP-2: Develop a python program to demonstrate logical bitwise operators on given input &,|,^,>>,<<,~\n",
    "code without comments\n",
    "a = int(input())\n",
    "b = int(input())\n",
    "\n",
    "print(a & b)\n",
    "print(a | b)\n",
    "print(a ^ b)\n",
    "print(a >> 1)\n",
    "print(a << 1)\n",
    "print(~a)"
   ]
  },
  {
   "cell_type": "code",
   "execution_count": 6,
   "id": "03e5ef87-a172-4950-821c-1cd84d13d5ec",
   "metadata": {},
   "outputs": [
    {
     "name": "stdin",
     "output_type": "stream",
     "text": [
      " 10\n",
      " 20\n"
     ]
    },
    {
     "name": "stdout",
     "output_type": "stream",
     "text": [
      "False\n",
      "True\n"
     ]
    }
   ],
   "source": [
    "#EP-3: Develop a python program to demonstrate membership operators on given input IN, NOT IN\n",
    "a = input()\n",
    "b = input()\n",
    "\n",
    "print(a in b)\n",
    "print(a not in b)"
   ]
  },
  {
   "cell_type": "code",
   "execution_count": 7,
   "id": "13a0865d-b6b8-4f2a-a7d3-c0a87ac6ce2c",
   "metadata": {},
   "outputs": [
    {
     "name": "stdin",
     "output_type": "stream",
     "text": [
      " 10\n",
      " 20\n"
     ]
    },
    {
     "name": "stdout",
     "output_type": "stream",
     "text": [
      "20 10\n"
     ]
    }
   ],
   "source": [
    "#EP-4: Develop a python program to swap 2-numbers (Assignment operator)\n",
    "a = int(input())\n",
    "b = int(input())\n",
    "\n",
    "a = a + b\n",
    "b = a - b\n",
    "a = a - b\n",
    "\n",
    "print(a, b)\n"
   ]
  },
  {
   "cell_type": "code",
   "execution_count": 8,
   "id": "06e0578f-92dd-42ef-ad49-1aee846d1950",
   "metadata": {},
   "outputs": [
    {
     "name": "stdin",
     "output_type": "stream",
     "text": [
      " 10\n",
      " 20\n"
     ]
    },
    {
     "name": "stdout",
     "output_type": "stream",
     "text": [
      "1020\n",
      "1010\n",
      "202020\n"
     ]
    }
   ],
   "source": [
    "#EP-5: Develop a python program to demonstrate string multiplication and string concatenation\n",
    "a = input()\n",
    "b = input()\n",
    "\n",
    "print(a + b)\n",
    "print(a * 2)\n",
    "print(b * 3)"
   ]
  },
  {
   "cell_type": "code",
   "execution_count": 9,
   "id": "17a038d5-41fd-41bd-a9cf-6a1066b9a877",
   "metadata": {},
   "outputs": [
    {
     "name": "stdin",
     "output_type": "stream",
     "text": [
      " 100\n"
     ]
    },
    {
     "name": "stdout",
     "output_type": "stream",
     "text": [
      "185.0\n"
     ]
    }
   ],
   "source": [
    "#EP-7: Develop a python program to find Gross salary by reading Basic-Salary as input and add it to 60%DA, 20% HRA, 5% TA of Basic-Salary.\n",
    "basic_salary = float(input())\n",
    "\n",
    "da = 0.60 * basic_salary\n",
    "hra = 0.20 * basic_salary\n",
    "ta = 0.05 * basic_salary\n",
    "\n",
    "gross_salary = basic_salary + da + hra + ta\n",
    "\n",
    "print(gross_salary)"
   ]
  },
  {
   "cell_type": "code",
   "execution_count": 10,
   "id": "7ad86745-0d30-405f-b75a-37459f209543",
   "metadata": {},
   "outputs": [
    {
     "name": "stdin",
     "output_type": "stream",
     "text": [
      " 200\n",
      " 300\n",
      " 2\n"
     ]
    },
    {
     "name": "stdout",
     "output_type": "stream",
     "text": [
      "1200.0\n",
      "3000.0\n"
     ]
    }
   ],
   "source": [
    "#EP-8: Develop a python program to find simple interest and compound interest[]()\n",
    "principal = float(input())\n",
    "rate = float(input())\n",
    "time = float(input())\n",
    "\n",
    "simple_interest = (principal * rate * time) / 100\n",
    "compound_interest = principal * ((1 + rate / 100) ** time) - principal\n",
    "\n",
    "print(simple_interest)\n",
    "print(compound_interest)"
   ]
  },
  {
   "cell_type": "code",
   "execution_count": 12,
   "id": "2f8879b6-52ce-449e-b9bf-3c4fc4ce0dc4",
   "metadata": {},
   "outputs": [
    {
     "name": "stdin",
     "output_type": "stream",
     "text": [
      " 4\n",
      " 6\n",
      " 7\n"
     ]
    },
    {
     "name": "stdout",
     "output_type": "stream",
     "text": [
      "(-0.75+1.0897247358851685j)\n",
      "(-0.75-1.0897247358851685j)\n"
     ]
    }
   ],
   "source": [
    "#EP-9: Develop a python program to solve the quadratic equation ax**2 + bx + c = 0\n",
    "import cmath\n",
    "\n",
    "a = float(input())\n",
    "b = float(input())\n",
    "c = float(input())\n",
    "\n",
    "d = b**2 - 4*a*c\n",
    "\n",
    "root1 = (-b + cmath.sqrt(d)) / (2*a)\n",
    "root2 = (-b - cmath.sqrt(d)) / (2*a)\n",
    "\n",
    "print(root1)\n",
    "print(root2)\n"
   ]
  },
  {
   "cell_type": "code",
   "execution_count": 13,
   "id": "b46ba9a4-161e-4123-adcd-c473e9fdc936",
   "metadata": {},
   "outputs": [
    {
     "name": "stdout",
     "output_type": "stream",
     "text": [
      "Capital cities: india NewDelhi, USWashington, UkLondon, ChinaBeeging\n"
     ]
    }
   ],
   "source": [
    "#EP-10: Print message using format specifier: ‘Capital cities: india {}, US{}, Uk{}, China{}’.format(‘Washington’, ‘NewDelhi’, ’Beeging’, ’London’)\n",
    "print('Capital cities: india {}, US{}, Uk{}, China{}'.format('NewDelhi', 'Washington', 'London', 'Beeging'))"
   ]
  },
  {
   "cell_type": "code",
   "execution_count": null,
   "id": "177836e3-9293-43dc-9149-5168fb68c6f0",
   "metadata": {},
   "outputs": [],
   "source": []
  }
 ],
 "metadata": {
  "kernelspec": {
   "display_name": "Python 3 (ipykernel)",
   "language": "python",
   "name": "python3"
  },
  "language_info": {
   "codemirror_mode": {
    "name": "ipython",
    "version": 3
   },
   "file_extension": ".py",
   "mimetype": "text/x-python",
   "name": "python",
   "nbconvert_exporter": "python",
   "pygments_lexer": "ipython3",
   "version": "3.13.5"
  }
 },
 "nbformat": 4,
 "nbformat_minor": 5
}
