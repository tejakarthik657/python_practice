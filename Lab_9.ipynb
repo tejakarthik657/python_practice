{
 "cells": [
  {
   "cell_type": "code",
   "execution_count": null,
   "id": "a3174558-ba1c-496a-8b2d-963ec169890a",
   "metadata": {},
   "outputs": [],
   "source": [
    "# SP-1: Python program to demonstrate Python database connectivity using mysql.connector\n",
    "# Creates a database table, inserts student details, and fetches them.\n",
    "\n",
    "import mysql.connector\n",
    "\n",
    "# Connect to MySQL server (update user & password as per your setup)\n",
    "mydb = mysql.connector.connect(\n",
    "    host=\"localhost\",\n",
    "    user=\"root\",\n",
    "    password=\"your_password\",\n",
    "    database=\"school_db\"\n",
    ")\n",
    "\n",
    "cursor = mydb.cursor()\n",
    "\n",
    "# Create table if not exists\n",
    "cursor.execute(\"\"\"\n",
    "CREATE TABLE IF NOT EXISTS students (\n",
    "    id INT AUTO_INCREMENT PRIMARY KEY,\n",
    "    name VARCHAR(100),\n",
    "    age INT,\n",
    "    grade FLOAT\n",
    ")\n",
    "\"\"\")\n",
    "\n",
    "# Get number of students\n",
    "n = int(input(\"Enter the number of students: \"))\n",
    "\n",
    "# Insert student details\n",
    "for i in range(n):\n",
    "    print(f\"\\nStudent {i+1} details:\")\n",
    "    name = input(\"Name: \")\n",
    "    age = int(input(\"Age: \"))\n",
    "    grade = float(input(\"Grade: \"))\n",
    "    cursor.execute(\"INSERT INTO students (name, age, grade) VALUES (%s, %s, %s)\", (name, age, grade))\n",
    "\n",
    "mydb.commit()\n",
    "print(\"\\nData inserted into the table successfully.\\n\")\n",
    "\n",
    "# Fetch and display all data\n",
    "cursor.execute(\"SELECT * FROM students\")\n",
    "rows = cursor.fetchall()\n",
    "\n",
    "for row in rows:\n",
    "    print(f\"ID: {row[0]}\")\n",
    "    print(f\"Name: {row[1]}\")\n",
    "    print(f\"Age: {row[2]}\")\n",
    "    print(f\"Grade: {row[3]}\\n\")\n",
    "\n",
    "# Close connection\n",
    "cursor.close()\n",
    "mydb.close()\n"
   ]
  }
 ],
 "metadata": {
  "kernelspec": {
   "display_name": "Python 3 (ipykernel)",
   "language": "python",
   "name": "python3"
  },
  "language_info": {
   "codemirror_mode": {
    "name": "ipython",
    "version": 3
   },
   "file_extension": ".py",
   "mimetype": "text/x-python",
   "name": "python",
   "nbconvert_exporter": "python",
   "pygments_lexer": "ipython3",
   "version": "3.13.5"
  }
 },
 "nbformat": 4,
 "nbformat_minor": 5
}
