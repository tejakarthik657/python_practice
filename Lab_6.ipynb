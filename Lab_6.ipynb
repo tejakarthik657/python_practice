{
 "cells": [
  {
   "cell_type": "code",
   "execution_count": 1,
   "id": "47be74a1-e1ae-461f-97b2-d8f206fbc4eb",
   "metadata": {},
   "outputs": [
    {
     "name": "stdout",
     "output_type": "stream",
     "text": [
      "Constructor invoked\n"
     ]
    }
   ],
   "source": [
    "# SP-1: Python program to demonstrate constructors invocation in objects\n",
    "class Demo:\n",
    "    def __init__(self):\n",
    "        print(\"Constructor invoked\")\n",
    "d=Demo()"
   ]
  },
  {
   "cell_type": "code",
   "execution_count": 2,
   "id": "c705ef32-b772-42b0-86ad-cfbd2971e2b6",
   "metadata": {},
   "outputs": [
    {
     "name": "stdin",
     "output_type": "stream",
     "text": [
      "Enter name:  karthik\n",
      "Enter age:  21\n"
     ]
    },
    {
     "name": "stdout",
     "output_type": "stream",
     "text": [
      "Name: karthik Age: 21\n"
     ]
    }
   ],
   "source": [
    "# SP-2: Develop python program to demonstrate class members and methods using the class object\n",
    "class Student:\n",
    "    def __init__(self,name,age):\n",
    "        self.name=name\n",
    "        self.age=age\n",
    "    def display(self):\n",
    "        print(\"Name:\",self.name,\"Age:\",self.age)\n",
    "s=Student(input(\"Enter name: \"),int(input(\"Enter age: \")))\n",
    "s.display()"
   ]
  },
  {
   "cell_type": "code",
   "execution_count": 3,
   "id": "113c20ca-6c69-4101-8a94-35c0ace20a39",
   "metadata": {},
   "outputs": [
    {
     "name": "stdin",
     "output_type": "stream",
     "text": [
      "Enter name:  karthik\n",
      "Enter 3 marks:  3\n"
     ]
    },
    {
     "name": "stdout",
     "output_type": "stream",
     "text": [
      "Total: 3\n"
     ]
    }
   ],
   "source": [
    "# EP-1: class members and methods using the class object (use list to the marks in three subjects)\n",
    "class Marks:\n",
    "    def __init__(self,name,marks):\n",
    "        self.name=name\n",
    "        self.marks=marks\n",
    "    def total(self):\n",
    "        print(\"Total:\",sum(self.marks))\n",
    "m=Marks(input(\"Enter name: \"),[int(x) for x in input(\"Enter 3 marks: \").split()])\n",
    "m.total()"
   ]
  },
  {
   "cell_type": "code",
   "execution_count": 4,
   "id": "f0df2d58-a636-41aa-a4e8-e60c7905069f",
   "metadata": {},
   "outputs": [
    {
     "name": "stdin",
     "output_type": "stream",
     "text": [
      "Enter employee1 name:  karthik\n",
      "Enter employee2 name:  teja\n"
     ]
    },
    {
     "name": "stdout",
     "output_type": "stream",
     "text": [
      "Total Employees: 2\n"
     ]
    }
   ],
   "source": [
    "# EP-2: difference between class and object variable\n",
    "class Employee:\n",
    "    count=0\n",
    "    def __init__(self,name):\n",
    "        self.name=name\n",
    "        Employee.count+=1\n",
    "e1=Employee(input(\"Enter employee1 name: \"))\n",
    "e2=Employee(input(\"Enter employee2 name: \"))\n",
    "print(\"Total Employees:\",Employee.count)"
   ]
  },
  {
   "cell_type": "code",
   "execution_count": 5,
   "id": "c3e7585f-de43-4245-9806-dad373b62799",
   "metadata": {},
   "outputs": [
    {
     "name": "stdin",
     "output_type": "stream",
     "text": [
      "Enter name:  karthik\n"
     ]
    },
    {
     "name": "stdout",
     "output_type": "stream",
     "text": [
      "Before: karthik\n"
     ]
    },
    {
     "name": "stdin",
     "output_type": "stream",
     "text": [
      "Modify name:  teja\n"
     ]
    },
    {
     "name": "stdout",
     "output_type": "stream",
     "text": [
      "After: teja\n"
     ]
    }
   ],
   "source": [
    "# EP-3: modification of an instance\n",
    "class Person:\n",
    "    def __init__(self,name):\n",
    "        self.name=name\n",
    "p=Person(input(\"Enter name: \"))\n",
    "print(\"Before:\",p.name)\n",
    "p.name=input(\"Modify name: \")\n",
    "print(\"After:\",p.name)"
   ]
  },
  {
   "cell_type": "code",
   "execution_count": 6,
   "id": "d2f546f1-d80b-4ea2-b86b-f3ef1c1c4bca",
   "metadata": {},
   "outputs": [
    {
     "name": "stdout",
     "output_type": "stream",
     "text": [
      "Before: [1, 2, 3]\n"
     ]
    },
    {
     "name": "stdin",
     "output_type": "stream",
     "text": [
      "Add a number:  5\n"
     ]
    },
    {
     "name": "stdout",
     "output_type": "stream",
     "text": [
      "After: [1, 2, 3, 5]\n"
     ]
    }
   ],
   "source": [
    "# EP-4: modifying a mutable type attribute\n",
    "class Data:\n",
    "    def __init__(self):\n",
    "        self.lst=[1,2,3]\n",
    "d=Data()\n",
    "print(\"Before:\",d.lst)\n",
    "d.lst.append(int(input(\"Add a number: \")))\n",
    "print(\"After:\",d.lst)"
   ]
  },
  {
   "cell_type": "code",
   "execution_count": 7,
   "id": "804d36c1-0a40-4153-90c7-14d418032ab9",
   "metadata": {},
   "outputs": [
    {
     "name": "stdin",
     "output_type": "stream",
     "text": [
      "Width:  5\n",
      "Height:  6\n"
     ]
    },
    {
     "name": "stdout",
     "output_type": "stream",
     "text": [
      "Box(5,6)\n"
     ]
    }
   ],
   "source": [
    "# EP-5: use of special methods in python class\n",
    "class Box:\n",
    "    def __init__(self,w,h):\n",
    "        self.w=w;self.h=h\n",
    "    def __str__(self):\n",
    "        return f\"Box({self.w},{self.h})\"\n",
    "b=Box(int(input(\"Width: \")),int(input(\"Height: \")))\n",
    "print(b)"
   ]
  },
  {
   "cell_type": "code",
   "execution_count": 8,
   "id": "649fd550-24d1-46ed-9a8a-a6bbcea237b7",
   "metadata": {},
   "outputs": [
    {
     "name": "stdout",
     "output_type": "stream",
     "text": [
      "Item 1: 2\n"
     ]
    },
    {
     "name": "stdin",
     "output_type": "stream",
     "text": [
      "New value for index 1:  5\n"
     ]
    },
    {
     "name": "stdout",
     "output_type": "stream",
     "text": [
      "Modified: [1, 5, 3]\n"
     ]
    }
   ],
   "source": [
    "# EP-6: use of getitem(), setitem() methods\n",
    "class MyList:\n",
    "    def __init__(self):\n",
    "        self.data=[]\n",
    "    def __getitem__(self,i):\n",
    "        return self.data[i]\n",
    "    def __setitem__(self,i,v):\n",
    "        self.data[i]=v\n",
    "ml=MyList()\n",
    "ml.data=[1,2,3]\n",
    "print(\"Item 1:\",ml[1])\n",
    "ml[1]=int(input(\"New value for index 1: \"))\n",
    "print(\"Modified:\",ml.data)"
   ]
  },
  {
   "cell_type": "code",
   "execution_count": 9,
   "id": "3236b431-1c64-4918-83dc-b8e67c33ed70",
   "metadata": {},
   "outputs": [
    {
     "name": "stdout",
     "output_type": "stream",
     "text": [
      "Public: Public\n",
      "Private access using _classname: Private\n"
     ]
    }
   ],
   "source": [
    "# EP-7: differentiate public and private variables\n",
    "class Test:\n",
    "    def __init__(self):\n",
    "        self.pub=\"Public\"\n",
    "        self.__priv=\"Private\"\n",
    "t=Test()\n",
    "print(\"Public:\",t.pub)\n",
    "print(\"Private access using _classname:\",t._Test__priv)\n"
   ]
  },
  {
   "cell_type": "code",
   "execution_count": 10,
   "id": "408b3762-222a-47bc-9abf-b9d1fb44f530",
   "metadata": {},
   "outputs": [
    {
     "name": "stdout",
     "output_type": "stream",
     "text": [
      "Hello from global function\n"
     ]
    }
   ],
   "source": [
    "# EP-8: class method calling function defined in the global namespace\n",
    "def greet():\n",
    "    print(\"Hello from global function\")\n",
    "class Call:\n",
    "    def call(self):\n",
    "        greet()\n",
    "c=Call()\n",
    "c.call()"
   ]
  },
  {
   "cell_type": "code",
   "execution_count": 11,
   "id": "a05be2a0-56ce-43df-b880-6e2940ef50c0",
   "metadata": {},
   "outputs": [
    {
     "name": "stdout",
     "output_type": "stream",
     "text": [
      "Getattr: 10\n",
      "Has x after delete: False\n"
     ]
    }
   ],
   "source": [
    "# EP-9: getattr(), setattr(), and delattr() functions\n",
    "class Sample:\n",
    "    pass\n",
    "s=Sample()\n",
    "setattr(s,'x',10)\n",
    "print(\"Getattr:\",getattr(s,'x'))\n",
    "delattr(s,'x')\n",
    "print(\"Has x after delete:\",hasattr(s,'x'))"
   ]
  },
  {
   "cell_type": "code",
   "execution_count": 13,
   "id": "d36847d5-dd20-432e-a203-93093ed388f9",
   "metadata": {},
   "outputs": [
    {
     "name": "stdin",
     "output_type": "stream",
     "text": [
      "a:  5\n",
      "b:  6\n"
     ]
    },
    {
     "name": "stdout",
     "output_type": "stream",
     "text": [
      "Addition: 11\n"
     ]
    }
   ],
   "source": [
    "# EP-10: static method\n",
    "class Math:\n",
    "    @staticmethod\n",
    "    def add(a,b):\n",
    "        return a+b\n",
    "print(\"Addition:\",Math.add(int(input(\"a: \")),int(input(\"b: \"))))"
   ]
  },
  {
   "cell_type": "code",
   "execution_count": 14,
   "id": "64e8d400-85a2-466d-8ed7-651ed890b46a",
   "metadata": {},
   "outputs": [
    {
     "name": "stdout",
     "output_type": "stream",
     "text": [
      "Parent\n",
      "Child\n"
     ]
    }
   ],
   "source": [
    "# EP-11: inheritance\n",
    "class Parent:\n",
    "    def display(self): print(\"Parent\")\n",
    "class Child(Parent):\n",
    "    def show(self): print(\"Child\")\n",
    "c=Child()\n",
    "c.display()\n",
    "c.show()"
   ]
  },
  {
   "cell_type": "code",
   "execution_count": 15,
   "id": "819f8043-39a9-487d-a00d-68a25d6f4724",
   "metadata": {},
   "outputs": [
    {
     "name": "stdout",
     "output_type": "stream",
     "text": [
      "B\n"
     ]
    }
   ],
   "source": [
    "# EP-12: Multi-path inheritance\n",
    "class A: \n",
    "    def show(self): print(\"A\")\n",
    "class B(A): \n",
    "    def show(self): print(\"B\")\n",
    "class C(A): \n",
    "    def show(self): print(\"C\")\n",
    "class D(B,C): pass\n",
    "d=D()\n",
    "d.show()"
   ]
  },
  {
   "cell_type": "code",
   "execution_count": 16,
   "id": "48ab80fa-7b3c-4878-8ec9-321a648ef281",
   "metadata": {},
   "outputs": [
    {
     "name": "stdin",
     "output_type": "stream",
     "text": [
      "Enter side:  5\n"
     ]
    },
    {
     "name": "stdout",
     "output_type": "stream",
     "text": [
      "Area: 25\n"
     ]
    }
   ],
   "source": [
    "# EP-13: abstract class\n",
    "from abc import ABC,abstractmethod\n",
    "class Shape(ABC):\n",
    "    @abstractmethod\n",
    "    def area(self): pass\n",
    "class Square(Shape):\n",
    "    def __init__(self,s): self.s=s\n",
    "    def area(self): return self.s*self.s\n",
    "sq=Square(int(input(\"Enter side: \")))\n",
    "print(\"Area:\",sq.area())"
   ]
  },
  {
   "cell_type": "code",
   "execution_count": 17,
   "id": "43c85e0b-1aa4-456f-bd89-706f6ddc1f98",
   "metadata": {},
   "outputs": [
    {
     "name": "stdout",
     "output_type": "stream",
     "text": [
      "Add 2 nums: 5\n",
      "Add 3 nums: 9\n"
     ]
    }
   ],
   "source": [
    "\n",
    "# EP-14: method over loading (simulate using default args)\n",
    "class Calc:\n",
    "    def add(self,a,b=0,c=0):\n",
    "        return a+b+c\n",
    "c=Calc()\n",
    "print(\"Add 2 nums:\",c.add(2,3))\n",
    "print(\"Add 3 nums:\",c.add(2,3,4))"
   ]
  },
  {
   "cell_type": "code",
   "execution_count": 18,
   "id": "b8fb0dc9-079c-47fb-8ff2-b2022086cce5",
   "metadata": {},
   "outputs": [
    {
     "name": "stdout",
     "output_type": "stream",
     "text": [
      "Vector sum: (4,6)\n"
     ]
    }
   ],
   "source": [
    "# EP-15: ‘+’ operator overloading\n",
    "class Vector:\n",
    "    def __init__(self,x,y): self.x=x;self.y=y\n",
    "    def __add__(self,other): return Vector(self.x+other.x,self.y+other.y)\n",
    "    def __str__(self): return f\"({self.x},{self.y})\"\n",
    "v1=Vector(1,2)\n",
    "v2=Vector(3,4)\n",
    "print(\"Vector sum:\",v1+v2)"
   ]
  },
  {
   "cell_type": "code",
   "execution_count": 19,
   "id": "8487ec42-0328-41a8-ba7a-5e1c2ccf6db2",
   "metadata": {},
   "outputs": [
    {
     "name": "stdin",
     "output_type": "stream",
     "text": [
      "Enter value for key a:  5\n"
     ]
    },
    {
     "name": "stdout",
     "output_type": "stream",
     "text": [
      "Get a: 5\n"
     ]
    }
   ],
   "source": [
    "# EP-16: getitem() & setitem()\n",
    "class Items:\n",
    "    def __init__(self): self.d={}\n",
    "    def __getitem__(self,k): return self.d[k]\n",
    "    def __setitem__(self,k,v): self.d[k]=v\n",
    "it=Items()\n",
    "it['a']=input(\"Enter value for key a: \")\n",
    "print(\"Get a:\",it['a'])"
   ]
  },
  {
   "cell_type": "code",
   "execution_count": 20,
   "id": "c0c94e6e-ac6f-4803-979d-0955c8b53477",
   "metadata": {},
   "outputs": [
    {
     "name": "stdin",
     "output_type": "stream",
     "text": [
      "Enter number to check in bag:  5\n"
     ]
    },
    {
     "name": "stdout",
     "output_type": "stream",
     "text": [
      "False\n"
     ]
    }
   ],
   "source": [
    "# EP-17: in operator overloading\n",
    "class Bag:\n",
    "    def __init__(self,items): self.items=items\n",
    "    def __contains__(self,item): return item in self.items\n",
    "b=Bag([1,2,3])\n",
    "x=int(input(\"Enter number to check in bag: \"))\n",
    "print(x in b)"
   ]
  },
  {
   "cell_type": "code",
   "execution_count": null,
   "id": "9e42ce0a-cd60-4dfd-81b1-e5ea812cb6bc",
   "metadata": {},
   "outputs": [],
   "source": [
    "# EP-18: overloading miscellaneous (__len__)\n",
    "class MyStr: \n",
    "    def __init__(self,s): self.s=s\n",
    "    def __len__(self): return len(self.s)*2\n",
    "ms=MyStr(input(\"Enter a string: \"))\n",
    "print(\"Custom len:\",len(ms))"
   ]
  }
 ],
 "metadata": {
  "kernelspec": {
   "display_name": "Python 3 (ipykernel)",
   "language": "python",
   "name": "python3"
  },
  "language_info": {
   "codemirror_mode": {
    "name": "ipython",
    "version": 3
   },
   "file_extension": ".py",
   "mimetype": "text/x-python",
   "name": "python",
   "nbconvert_exporter": "python",
   "pygments_lexer": "ipython3",
   "version": "3.13.5"
  }
 },
 "nbformat": 4,
 "nbformat_minor": 5
}
