{
 "cells": [
  {
   "cell_type": "code",
   "execution_count": 2,
   "id": "49fa9dba-75b3-427b-aa8c-2d6819214da6",
   "metadata": {},
   "outputs": [
    {
     "name": "stdin",
     "output_type": "stream",
     "text": [
      " 2005\n"
     ]
    },
    {
     "name": "stdout",
     "output_type": "stream",
     "text": [
      "Not a leap year\n"
     ]
    }
   ],
   "source": [
    "# SP-1: Develop a python program to find given year is leap year or not\n",
    "\n",
    "year = int(input())\n",
    "\n",
    "if (year % 4 == 0 and year % 100 != 0) or (year % 400 == 0):\n",
    "    print(\"Leap year\")\n",
    "else:\n",
    "    print(\"Not a leap year\")\n"
   ]
  },
  {
   "cell_type": "code",
   "execution_count": 3,
   "id": "bc9c068b-94a1-49fd-ad03-4b10c3f63d07",
   "metadata": {},
   "outputs": [
    {
     "name": "stdin",
     "output_type": "stream",
     "text": [
      " 3.14\n",
      " 7.33\n"
     ]
    },
    {
     "name": "stdout",
     "output_type": "stream",
     "text": [
      "4390.301240482098\n"
     ]
    }
   ],
   "source": [
    "# SP-2: Develop a python program to find Exponentiation (Power) of a number\n",
    "\n",
    "base = float(input())\n",
    "exponent = float(input())\n",
    "\n",
    "result = base ** exponent\n",
    "\n",
    "print(result)\n"
   ]
  },
  {
   "cell_type": "code",
   "execution_count": 4,
   "id": "cf7b9044-13f1-4508-a647-55dcec5aa29d",
   "metadata": {},
   "outputs": [
    {
     "name": "stdin",
     "output_type": "stream",
     "text": [
      " 10\n"
     ]
    },
    {
     "name": "stdout",
     "output_type": "stream",
     "text": [
      "2\n",
      "3\n",
      "5\n",
      "7\n"
     ]
    }
   ],
   "source": [
    "# SP-3: Develop a python program to generate prime numbers up to given numbers\n",
    "n = int(input())\n",
    "for i in range(2, n + 1):\n",
    "    is_prime = True\n",
    "    for j in range(2, int(i ** 0.5) + 1):\n",
    "        if i % j == 0:\n",
    "            is_prime = False\n",
    "            break\n",
    "    if is_prime:\n",
    "        print(i)"
   ]
  },
  {
   "cell_type": "code",
   "execution_count": 5,
   "id": "2e8ffbab-1ee1-4322-b6c4-e53c693439e4",
   "metadata": {},
   "outputs": [
    {
     "name": "stdin",
     "output_type": "stream",
     "text": [
      " 100\n"
     ]
    },
    {
     "name": "stdout",
     "output_type": "stream",
     "text": [
      "Even\n"
     ]
    }
   ],
   "source": [
    "# EP-1: Python program to find given number is even or odd\n",
    "x = int(input())\n",
    "print(\"Even\" if x % 2 == 0 else \"Odd\")"
   ]
  },
  {
   "cell_type": "code",
   "execution_count": 8,
   "id": "3c2ab42a-05ea-4e80-9491-f499563917d9",
   "metadata": {},
   "outputs": [
    {
     "name": "stdin",
     "output_type": "stream",
     "text": [
      " a\n"
     ]
    },
    {
     "name": "stdout",
     "output_type": "stream",
     "text": [
      "Lower case\n"
     ]
    }
   ],
   "source": [
    "# EP-2: Python program to print given number is upper or lower or spatial character using their ASCII representation\n",
    "ch = input()\n",
    "ascii_val = ord(ch)\n",
    "if 65 <= ascii_val <= 90:\n",
    "    print(\"Upper case\")\n",
    "elif 97 <= ascii_val <= 122:\n",
    "    print(\"Lower case\")\n",
    "else:\n",
    "    print(\"Special character\")"
   ]
  },
  {
   "cell_type": "code",
   "execution_count": 7,
   "id": "3fc505ff-afa8-4358-8fa2-16fb1b1d1a50",
   "metadata": {},
   "outputs": [
    {
     "name": "stdin",
     "output_type": "stream",
     "text": [
      " 5\n",
      " 6\n",
      " 7\n"
     ]
    },
    {
     "name": "stdout",
     "output_type": "stream",
     "text": [
      "7\n"
     ]
    }
   ],
   "source": [
    "# EP-3: Python program to print largest among three numbers\n",
    "a = int(input())\n",
    "b = int(input())\n",
    "c = int(input())\n",
    "print(max(a, b, c))\n"
   ]
  },
  {
   "cell_type": "code",
   "execution_count": 9,
   "id": "a77a637d-dda7-4ee0-91f2-587a375ecd87",
   "metadata": {},
   "outputs": [
    {
     "name": "stdin",
     "output_type": "stream",
     "text": [
      " 2\n"
     ]
    },
    {
     "name": "stdout",
     "output_type": "stream",
     "text": [
      "Not a leap year\n"
     ]
    }
   ],
   "source": [
    "# EP-4: Python program to given year is leap year or not\n",
    "year = int(input())\n",
    "print(\"Leap year\" if (year % 4 == 0 and year % 100 != 0) or (year % 400 == 0) else \"Not a leap year\")\n"
   ]
  },
  {
   "cell_type": "code",
   "execution_count": 10,
   "id": "f9ffe805-02f3-47db-8ac7-da3ce890b9e8",
   "metadata": {},
   "outputs": [
    {
     "name": "stdin",
     "output_type": "stream",
     "text": [
      " 23\n"
     ]
    },
    {
     "name": "stdout",
     "output_type": "stream",
     "text": [
      "32\n",
      "Not palindrome\n"
     ]
    }
   ],
   "source": [
    "# EP-5: Python program to give reverse of the given number and check it is palindrome or not\n",
    "num = input()\n",
    "rev = num[::-1]\n",
    "print(rev)\n",
    "print(\"Palindrome\" if num == rev else \"Not palindrome\")\n"
   ]
  },
  {
   "cell_type": "code",
   "execution_count": 11,
   "id": "ae205f66-7c5d-431f-8b61-e49f3a264d2e",
   "metadata": {},
   "outputs": [
    {
     "name": "stdin",
     "output_type": "stream",
     "text": [
      " 2\n",
      " 3\n"
     ]
    },
    {
     "name": "stdout",
     "output_type": "stream",
     "text": [
      "1\n"
     ]
    }
   ],
   "source": [
    "# EP-6: Python program to calculate GCD of given number using while loop\n",
    "a = int(input())\n",
    "b = int(input())\n",
    "while b:\n",
    "    a, b = b, a % b\n",
    "print(a)\n"
   ]
  },
  {
   "cell_type": "code",
   "execution_count": 12,
   "id": "79a81a16-7bc7-4cf8-95e8-392a6005ed5d",
   "metadata": {},
   "outputs": [
    {
     "name": "stdout",
     "output_type": "stream",
     "text": [
      "1\n",
      "2\n",
      "3\n",
      "4\n",
      "Loop ended\n"
     ]
    }
   ],
   "source": [
    "# EP-7: Python program to demonstrate while with else\n",
    "i = 1\n",
    "while i < 5:\n",
    "    print(i)\n",
    "    i += 1\n",
    "else:\n",
    "    print(\"Loop ended\")\n"
   ]
  },
  {
   "cell_type": "code",
   "execution_count": 13,
   "id": "61069452-d2eb-4031-9c1d-fc7ff54fb04d",
   "metadata": {},
   "outputs": [
    {
     "name": "stdin",
     "output_type": "stream",
     "text": [
      " 12\n"
     ]
    },
    {
     "name": "stdout",
     "output_type": "stream",
     "text": [
      "12\n",
      "11\n",
      "10\n",
      "9\n",
      "8\n",
      "7\n",
      "6\n",
      "5\n",
      "4\n",
      "3\n",
      "2\n",
      "1\n"
     ]
    }
   ],
   "source": [
    "# EP-8: Python program to print sequence of numbers in reverse order using for loop\n",
    "n = int(input())\n",
    "for i in range(n, 0, -1):\n",
    "    print(i)\n"
   ]
  },
  {
   "cell_type": "code",
   "execution_count": 14,
   "id": "983b24e1-ee8f-4dca-a6b9-9fd150171d38",
   "metadata": {},
   "outputs": [
    {
     "name": "stdin",
     "output_type": "stream",
     "text": [
      " 2\n"
     ]
    },
    {
     "name": "stdout",
     "output_type": "stream",
     "text": [
      " *\n",
      "***\n"
     ]
    }
   ],
   "source": [
    "# EP-9: Python program for Pyramid sequence using for loop\n",
    "rows = int(input())\n",
    "for i in range(1, rows + 1):\n",
    "    print(' ' * (rows - i) + '*' * (2*i - 1))\n"
   ]
  },
  {
   "cell_type": "code",
   "execution_count": null,
   "id": "a8e0c0f5-651a-4970-a91d-15e42b0fd248",
   "metadata": {},
   "outputs": [],
   "source": []
  }
 ],
 "metadata": {
  "kernelspec": {
   "display_name": "Python 3 (ipykernel)",
   "language": "python",
   "name": "python3"
  },
  "language_info": {
   "codemirror_mode": {
    "name": "ipython",
    "version": 3
   },
   "file_extension": ".py",
   "mimetype": "text/x-python",
   "name": "python",
   "nbconvert_exporter": "python",
   "pygments_lexer": "ipython3",
   "version": "3.13.5"
  }
 },
 "nbformat": 4,
 "nbformat_minor": 5
}
