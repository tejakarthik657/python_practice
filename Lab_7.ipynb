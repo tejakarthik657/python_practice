{
 "cells": [
  {
   "cell_type": "code",
   "execution_count": 1,
   "id": "f6356643-3e04-4769-9652-0180f15461a3",
   "metadata": {},
   "outputs": [
    {
     "name": "stdout",
     "output_type": "stream",
     "text": [
      "Enter numbers separated by space:  56\n"
     ]
    },
    {
     "name": "stdout",
     "output_type": "stream",
     "text": [
      "Squares: [3136]\n"
     ]
    }
   ],
   "source": [
    "# SP-1: Python program to demonstrate list comprehensions\n",
    "nums = [int(x) for x in input(\"Enter numbers separated by space: \").split()]\n",
    "squares = [x**2 for x in nums]\n",
    "print(\"Squares:\", squares)"
   ]
  },
  {
   "cell_type": "code",
   "execution_count": 2,
   "id": "2dcc5e7d-1487-4aa1-b647-b38d824833ac",
   "metadata": {},
   "outputs": [
    {
     "name": "stdout",
     "output_type": "stream",
     "text": [
      "Enter words separated by space:  jhgfd\n"
     ]
    },
    {
     "name": "stdout",
     "output_type": "stream",
     "text": [
      "Words by length: ['jhgfd']\n"
     ]
    }
   ],
   "source": [
    "\n",
    "# SP-2: Display list of words based on the word length\n",
    "words = input(\"Enter words separated by space: \").split()\n",
    "sorted_words = sorted(words, key=len)\n",
    "print(\"Words by length:\", sorted_words)"
   ]
  },
  {
   "cell_type": "code",
   "execution_count": 3,
   "id": "a931e621-d62f-4cbe-8fc7-c6bfe4f55424",
   "metadata": {},
   "outputs": [
    {
     "name": "stdout",
     "output_type": "stream",
     "text": [
      "Updated Set: {64, 1, 121, 4, 8, 9, 16, 1331, 25, 27, 125}\n",
      "After Deletion: {64, 1, 121, 4, 8, 9, 16, 25, 27, 125}\n"
     ]
    }
   ],
   "source": [
    "# SP-3: Sets of squares and cubes, update, add 11, delete last\n",
    "squares = {x**2 for x in range(1, 6)}\n",
    "cubes = {x**3 for x in range(1, 6)}\n",
    "squares.update(cubes)\n",
    "squares.add(11**2)\n",
    "squares.add(11**3)\n",
    "print(\"Updated Set:\", squares)\n",
    "squares.remove(max(squares))\n",
    "print(\"After Deletion:\", squares)"
   ]
  },
  {
   "cell_type": "code",
   "execution_count": 4,
   "id": "e9b52bce-eed3-46c3-bf24-483182a6e7c1",
   "metadata": {},
   "outputs": [
    {
     "name": "stdout",
     "output_type": "stream",
     "text": [
      "Enter tuples separated by ; (e.g. a,b;c,d):  dfghj\n"
     ]
    },
    {
     "name": "stdout",
     "output_type": "stream",
     "text": [
      "Reversed Tuples: [('dfghj',)]\n"
     ]
    }
   ],
   "source": [
    "# SP-4: Reverse each tuple in a list of tuples\n",
    "data = [tuple(x.split(',')) for x in input(\"Enter tuples separated by ; (e.g. a,b;c,d): \").split(';')]\n",
    "reversed_tuples = [t[::-1] for t in data]\n",
    "print(\"Reversed Tuples:\", reversed_tuples)"
   ]
  },
  {
   "cell_type": "code",
   "execution_count": 6,
   "id": "20090a17-0c3c-4d43-8aab-aefd095e03a5",
   "metadata": {},
   "outputs": [
    {
     "name": "stdout",
     "output_type": "stream",
     "text": [
      "Enter list elements:  123\n"
     ]
    },
    {
     "name": "stdout",
     "output_type": "stream",
     "text": [
      "Slice [1:4]: []\n"
     ]
    }
   ],
   "source": [
    "# EP-1: Slice operation on list\n",
    "lst = [int(x) for x in input(\"Enter list elements: \").split()]\n",
    "print(\"Slice [1:4]:\", lst[1:4])"
   ]
  },
  {
   "cell_type": "code",
   "execution_count": 7,
   "id": "fed692ea-bde5-493c-acef-a96e8028438e",
   "metadata": {},
   "outputs": [
    {
     "name": "stdout",
     "output_type": "stream",
     "text": [
      "Enter numbers:  123\n"
     ]
    },
    {
     "name": "stdout",
     "output_type": "stream",
     "text": [
      "Sum: 123\n",
      "Max: 123\n",
      "Min: 123\n"
     ]
    }
   ],
   "source": [
    "# EP-2: Arithmetic operations on list\n",
    "lst = [int(x) for x in input(\"Enter numbers: \").split()]\n",
    "print(\"Sum:\", sum(lst))\n",
    "print(\"Max:\", max(lst))\n",
    "print(\"Min:\", min(lst))"
   ]
  },
  {
   "cell_type": "code",
   "execution_count": 8,
   "id": "eb04d20c-8bf5-40d3-ab05-0d1ba4b52819",
   "metadata": {},
   "outputs": [
    {
     "name": "stdout",
     "output_type": "stream",
     "text": [
      "Enter sublist numbers:  12\n",
      "Enter sublist numbers:  1\n"
     ]
    },
    {
     "name": "stdout",
     "output_type": "stream",
     "text": [
      "12 1 \n"
     ]
    }
   ],
   "source": [
    "# EP-3: Accessing list within list using looping\n",
    "nested = [[int(x) for x in input(\"Enter sublist numbers: \").split()] for _ in range(2)]\n",
    "for sub in nested:\n",
    "    for item in sub:\n",
    "        print(item, end=\" \")\n",
    "print()"
   ]
  },
  {
   "cell_type": "code",
   "execution_count": 9,
   "id": "4b17d57c-2dc6-40fd-964f-ea41dc23c020",
   "metadata": {},
   "outputs": [
    {
     "name": "stdout",
     "output_type": "stream",
     "text": [
      "Enter list elements:  12\n"
     ]
    },
    {
     "name": "stdout",
     "output_type": "stream",
     "text": [
      "List after methods: [5, 12]\n"
     ]
    }
   ],
   "source": [
    "# EP-4: List methods\n",
    "lst = [int(x) for x in input(\"Enter list elements: \").split()]\n",
    "lst.append(10)\n",
    "lst.insert(0, 5)\n",
    "lst.remove(10)\n",
    "print(\"List after methods:\", lst)"
   ]
  },
  {
   "cell_type": "markdown",
   "id": "0e7263f5-e487-4099-b615-0e31be39d023",
   "metadata": {},
   "source": [
    "###### EP-5: List as stack and queue\n",
    "stack = []\n",
    "stack.append(input(\"Push element: \"))\n",
    "stack.append(input(\"Push element: \"))\n",
    "print(\"Popped from stack:\", stack.pop())\n",
    "queue = []\n",
    "queue.append(input(\"Enqueue element: \"))\n",
    "queue.append(input(\"Enqueue element: \"))\n",
    "print(\"Dequeued from queue:\", queue.pop(0))"
   ]
  },
  {
   "cell_type": "code",
   "execution_count": 11,
   "id": "375bbe64-ca49-46a9-89c8-5e7abde310aa",
   "metadata": {},
   "outputs": [
    {
     "name": "stdout",
     "output_type": "stream",
     "text": [
      "Enter tuple elements:  23\n"
     ]
    },
    {
     "name": "stdout",
     "output_type": "stream",
     "text": [
      "Tuple: ('23',)\n"
     ]
    }
   ],
   "source": [
    "# EP-6: Tuple\n",
    "tpl = tuple(input(\"Enter tuple elements: \").split())\n",
    "print(\"Tuple:\", tpl)"
   ]
  },
  {
   "cell_type": "code",
   "execution_count": 12,
   "id": "f0082afc-8a46-46f0-8c8d-0e5b3f55c648",
   "metadata": {},
   "outputs": [
    {
     "name": "stdout",
     "output_type": "stream",
     "text": [
      "Enter tuple elements:  45\n"
     ]
    },
    {
     "name": "stdout",
     "output_type": "stream",
     "text": [
      "Count of first element: 1\n",
      "Index of first element: 0\n"
     ]
    }
   ],
   "source": [
    "# EP-7: Tuple operations\n",
    "tpl = tuple(input(\"Enter tuple elements: \").split())\n",
    "print(\"Count of first element:\", tpl.count(tpl[0]))\n",
    "print(\"Index of first element:\", tpl.index(tpl[0]))"
   ]
  },
  {
   "cell_type": "code",
   "execution_count": 13,
   "id": "73f9bdc1-2089-4896-b3a6-ae495c79e6c0",
   "metadata": {},
   "outputs": [
    {
     "name": "stdout",
     "output_type": "stream",
     "text": [
      "Enter set1 elements:  123\n",
      "Enter set2 elements:  456\n"
     ]
    },
    {
     "name": "stdout",
     "output_type": "stream",
     "text": [
      "Union: {'456', '123'}\n",
      "Intersection: set()\n",
      "Difference: {'123'}\n"
     ]
    }
   ],
   "source": [
    "# EP-8: Sets operations\n",
    "s1 = set(input(\"Enter set1 elements: \").split())\n",
    "s2 = set(input(\"Enter set2 elements: \").split())\n",
    "print(\"Union:\", s1 | s2)\n",
    "print(\"Intersection:\", s1 & s2)\n",
    "print(\"Difference:\", s1 - s2)"
   ]
  },
  {
   "cell_type": "code",
   "execution_count": 14,
   "id": "fa2d2905-b067-4e37-af45-3184e73f9c01",
   "metadata": {},
   "outputs": [
    {
     "name": "stdout",
     "output_type": "stream",
     "text": [
      "Key:  465\n",
      "Value:  6\n",
      "Key:  4\n",
      "Value:  6\n",
      "Key:  5\n",
      "Value:  56\n"
     ]
    },
    {
     "name": "stdout",
     "output_type": "stream",
     "text": [
      "Dictionary: {'465': '6', '4': '6', '5': '56'}\n"
     ]
    }
   ],
   "source": [
    "# EP-9: Dictionary\n",
    "d = {}\n",
    "for _ in range(3):\n",
    "    k = input(\"Key: \")\n",
    "    v = input(\"Value: \")\n",
    "    d[k] = v\n",
    "print(\"Dictionary:\", d)"
   ]
  },
  {
   "cell_type": "code",
   "execution_count": null,
   "id": "3a357bf3-aa66-4b2c-ab20-de92bb499858",
   "metadata": {},
   "outputs": [
    {
     "name": "stdout",
     "output_type": "stream",
     "text": [
      "Keys: dict_keys(['A', 'B'])\n",
      "Values: dict_values([1, 2])\n",
      "Items: dict_items([('A', 1), ('B', 2)])\n"
     ]
    }
   ],
   "source": [
    "# EP-10: Dictionary methods\n",
    "d = {'A':1,'B':2}\n",
    "print(\"Keys:\", d.keys())\n",
    "print(\"Values:\", d.values())\n",
    "print(\"Items:\", d.items())"
   ]
  },
  {
   "cell_type": "code",
   "execution_count": 16,
   "id": "d8923e38-ade2-4f43-bca2-b0abb23174c8",
   "metadata": {},
   "outputs": [
    {
     "name": "stdout",
     "output_type": "stream",
     "text": [
      "Inner Dict A: {'a': 1}\n"
     ]
    }
   ],
   "source": [
    "# EP-11: Dictionary within Dictionary\n",
    "d = {'A':{'a':1},'B':{'b':2}}\n",
    "print(\"Inner Dict A:\", d['A'])"
   ]
  },
  {
   "cell_type": "code",
   "execution_count": 17,
   "id": "6ea29dd9-4df3-492a-99c1-69a0f0ed1d59",
   "metadata": {},
   "outputs": [
    {
     "name": "stdout",
     "output_type": "stream",
     "text": [
      "Enter list elements:  123\n",
      "Enter tuple elements:  456\n"
     ]
    },
    {
     "name": "stdout",
     "output_type": "stream",
     "text": [
      "123 456\n"
     ]
    }
   ],
   "source": [
    "# EP-12: zip() with lists and tuples\n",
    "lst = input(\"Enter list elements: \").split()\n",
    "tpl = tuple(input(\"Enter tuple elements: \").split())\n",
    "for x,y in zip(lst,tpl):\n",
    "    print(x,y)"
   ]
  },
  {
   "cell_type": "code",
   "execution_count": 18,
   "id": "894a658c-8d3f-4c93-8a9e-cb281814939a",
   "metadata": {},
   "outputs": [
    {
     "name": "stdout",
     "output_type": "stream",
     "text": [
      "Enter a paragraph:  123\n"
     ]
    },
    {
     "name": "stdout",
     "output_type": "stream",
     "text": [
      "Most repeated: 123\n",
      "Unique words: {'123'}\n",
      "Total words: 1\n"
     ]
    }
   ],
   "source": [
    "# EP-13: Most repeated word, remove duplicates, total count\n",
    "text = input(\"Enter a paragraph: \").split()\n",
    "unique = set(text)\n",
    "word = max(text, key=text.count)\n",
    "print(\"Most repeated:\", word)\n",
    "print(\"Unique words:\", unique)\n",
    "print(\"Total words:\", len(unique))"
   ]
  },
  {
   "cell_type": "code",
   "execution_count": null,
   "id": "49f52cc1-7299-4da2-b2ea-f57b0c812772",
   "metadata": {},
   "outputs": [],
   "source": [
    "\n",
    "# EP-14: Most popular car model\n",
    "companies = input(\"Enter companies: \").split()\n",
    "models = input(\"Enter models: \").split()\n",
    "sales = [int(x) for x in input(\"Enter sales numbers: \").split()]\n",
    "idx = sales.index(max(sales))\n",
    "print(\"Most popular:\", companies[idx], models[idx])"
   ]
  },
  {
   "cell_type": "code",
   "execution_count": null,
   "id": "e0eebbc9",
   "metadata": {},
   "outputs": [],
   "source": [
    "# EP-15: Python script to create two random integer sets of user-defined size \n",
    "# and display all set operations.\n",
    "\n",
    "import random\n",
    "\n",
    "n1 = int(input(\"Enter size of Set 1: \"))\n",
    "n2 = int(input(\"Enter size of Set 2: \"))\n",
    "\n",
    "s1 = {random.randint(1, 100) for _ in range(n1)}\n",
    "s2 = {random.randint(1, 100) for _ in range(n2)}\n",
    "\n",
    "print(\"Set1:\", s1)\n",
    "print(\"Set2:\", s2)\n",
    "print(\"Union:\", s1 | s2)\n",
    "print(\"Intersection:\", s1 & s2)\n",
    "print(\"Diff (s1-s2):\", s1 - s2)\n",
    "print(\"Sym Diff:\", s1 ^ s2)\n"
   ]
  },
  {
   "cell_type": "code",
   "execution_count": null,
   "id": "2f554933",
   "metadata": {},
   "outputs": [],
   "source": [
    "# EP-16: Develop a Python script to create two dictionaries and \n",
    "# find the value for 'C' in D1 and default value for 'D' in D1.\n",
    "\n",
    "D1 = {\"A\": 1, \"B\": 2, \"C\": 3}\n",
    "D2 = {\"1\": \"I\", 2: \"J\", \"3\": \"K\", \"4\": \"L\", \"5\": \"M\"}\n",
    "\n",
    "print(\"D1:\", D1)\n",
    "print(\"D2:\", D2)\n",
    "print(\"Value of 'C' in D1:\", D1.get(\"C\"))\n",
    "print(\"Default value for 'D' in D1:\", D1.get(\"D\", \"Not Found\"))\n"
   ]
  },
  {
   "cell_type": "code",
   "execution_count": null,
   "id": "4ec1f21d",
   "metadata": {},
   "outputs": [],
   "source": [
    "# EP-17: Python program to print queried values from a dictionary \n",
    "# and rearrange data so that key 'BBB' has value {2: \"Average\"}.\n",
    "\n",
    "D1 = {\"AAA\": {1: \"Good\"}, \"BBB\": {3: \"Bad\"}, \"CCC\": {2: \"Average\"}}\n",
    "\n",
    "print(\"Original Dictionary:\", D1)\n",
    "\n",
    "# Rearranging the value for key 'BBB'\n",
    "D1[\"BBB\"] = {2: \"Average\"}\n",
    "\n",
    "print(\"Modified Dictionary:\", D1)\n"
   ]
  }
 ],
 "metadata": {
  "kernelspec": {
   "display_name": "Python 3 (ipykernel)",
   "language": "python",
   "name": "python3"
  },
  "language_info": {
   "codemirror_mode": {
    "name": "ipython",
    "version": 3
   },
   "file_extension": ".py",
   "mimetype": "text/x-python",
   "name": "python",
   "nbconvert_exporter": "python",
   "pygments_lexer": "ipython3",
   "version": "3.13.5"
  }
 },
 "nbformat": 4,
 "nbformat_minor": 5
}
