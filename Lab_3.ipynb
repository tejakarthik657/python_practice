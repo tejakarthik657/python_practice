{
 "cells": [
  {
   "cell_type": "code",
   "execution_count": 2,
   "id": "47ca24c5-3490-46e8-9214-62e53bab7da5",
   "metadata": {},
   "outputs": [
    {
     "name": "stdin",
     "output_type": "stream",
     "text": [
      "Enter first number for GCD:  10\n",
      "Enter second number for GCD:  20\n"
     ]
    },
    {
     "name": "stdout",
     "output_type": "stream",
     "text": [
      "GCD: 10\n"
     ]
    }
   ],
   "source": [
    "# SP-1: Develop python recursive function to generate GCD of given 2 numbers\n",
    "def gcd(a,b):\n",
    "    if b==0:\n",
    "        return a\n",
    "    return gcd(b,a%b)\n",
    "a=int(input(\"Enter first number for GCD: \"))\n",
    "b=int(input(\"Enter second number for GCD: \"))\n",
    "print(\"GCD:\",gcd(a,b))"
   ]
  },
  {
   "cell_type": "code",
   "execution_count": 3,
   "id": "e280dc59-9802-4e43-aa20-190d3bd36c0a",
   "metadata": {},
   "outputs": [
    {
     "name": "stdin",
     "output_type": "stream",
     "text": [
      "Enter numbers separated by space:  10\n"
     ]
    },
    {
     "name": "stdout",
     "output_type": "stream",
     "text": [
      "Sum: 10\n"
     ]
    }
   ],
   "source": [
    "# SP-2: Develop a python program to demonstrate variable length argument\n",
    "def add(*nums):\n",
    "    s=0\n",
    "    for n in nums:\n",
    "        s+=n\n",
    "    print(\"Sum:\",s)\n",
    "nums=list(map(int,input(\"Enter numbers separated by space: \").split()))\n",
    "add(*nums)"
   ]
  },
  {
   "cell_type": "code",
   "execution_count": 4,
   "id": "56df7d20-ff63-4a2f-aba1-68c292ec9e47",
   "metadata": {},
   "outputs": [
    {
     "name": "stdin",
     "output_type": "stream",
     "text": [
      "Enter number to square:  5\n"
     ]
    },
    {
     "name": "stdout",
     "output_type": "stream",
     "text": [
      "Square: 25\n"
     ]
    }
   ],
   "source": [
    "# SP-3: Develop a python program to demonstrate lambda functions\n",
    "square=lambda x:x*x\n",
    "n=int(input(\"Enter number to square: \"))\n",
    "print(\"Square:\",square(n))\n"
   ]
  },
  {
   "cell_type": "code",
   "execution_count": 5,
   "id": "739b4149-3afc-4634-93f0-d487a0bb25bc",
   "metadata": {},
   "outputs": [
    {
     "name": "stdin",
     "output_type": "stream",
     "text": [
      "Enter number to check Perfect:  10\n"
     ]
    },
    {
     "name": "stdout",
     "output_type": "stream",
     "text": [
      "Not Perfect\n"
     ]
    }
   ],
   "source": [
    "# EP-1: Develop python function to check given number is perfect number or not without passing arguments\n",
    "def perfect():\n",
    "    n=int(input(\"Enter number to check Perfect: \"))\n",
    "    s=sum(i for i in range(1,n) if n%i==0)\n",
    "    print(\"Perfect\" if s==n else \"Not Perfect\")\n",
    "perfect()"
   ]
  },
  {
   "cell_type": "code",
   "execution_count": 6,
   "id": "62e9fa1c-53a1-4da8-a157-75328d40c825",
   "metadata": {},
   "outputs": [
    {
     "name": "stdin",
     "output_type": "stream",
     "text": [
      "Enter number to check Armstrong:  123\n"
     ]
    },
    {
     "name": "stdout",
     "output_type": "stream",
     "text": [
      "Not Armstrong\n"
     ]
    }
   ],
   "source": [
    "# EP-2: Develop python function to check given number is Armstrong number or not with passing arguments\n",
    "def armstrong(n):\n",
    "    s=sum(int(d)**len(str(n)) for d in str(n))\n",
    "    print(\"Armstrong\" if s==n else \"Not Armstrong\")\n",
    "n=int(input(\"Enter number to check Armstrong: \"))\n",
    "armstrong(n)"
   ]
  },
  {
   "cell_type": "code",
   "execution_count": 7,
   "id": "58844372-65e4-460b-a5f4-715fe5483df5",
   "metadata": {},
   "outputs": [
    {
     "name": "stdin",
     "output_type": "stream",
     "text": [
      "Enter initial global value:  10\n",
      "Enter value to add to global x:  10\n"
     ]
    },
    {
     "name": "stdout",
     "output_type": "stream",
     "text": [
      "Global x: 20\n"
     ]
    }
   ],
   "source": [
    "# EP-3: Develop python function to demonstrate use of Global variable and Global keyword\n",
    "x=int(input(\"Enter initial global value: \"))\n",
    "def change():\n",
    "    global x\n",
    "    x+=int(input(\"Enter value to add to global x: \"))\n",
    "change()\n",
    "print(\"Global x:\",x)"
   ]
  },
  {
   "cell_type": "code",
   "execution_count": 8,
   "id": "9d3a6eb5-31e5-4771-837e-32d8f3336b21",
   "metadata": {},
   "outputs": [
    {
     "name": "stdin",
     "output_type": "stream",
     "text": [
      "Enter name:  karthik\n",
      "Enter age:  18\n"
     ]
    },
    {
     "name": "stdout",
     "output_type": "stream",
     "text": [
      "Name: karthik Age: 18\n"
     ]
    }
   ],
   "source": [
    "# EP-4: Develop python function to demonstrate keyword arguments\n",
    "def person(name,age):\n",
    "    print(\"Name:\",name,\"Age:\",age)\n",
    "name=input(\"Enter name: \")\n",
    "age=int(input(\"Enter age: \"))\n",
    "person(age=age,name=name)"
   ]
  },
  {
   "cell_type": "code",
   "execution_count": 9,
   "id": "2cb0e8a4-98aa-40a4-9f45-c6b26fe44b84",
   "metadata": {},
   "outputs": [
    {
     "name": "stdin",
     "output_type": "stream",
     "text": [
      "Enter custom greeting or press Enter for default:  hi\n"
     ]
    },
    {
     "name": "stdout",
     "output_type": "stream",
     "text": [
      "hi\n"
     ]
    }
   ],
   "source": [
    "# EP-5: Develop python function to demonstrate default arguments\n",
    "def greet(msg=\"Hello\"):\n",
    "    print(msg)\n",
    "choice=input(\"Enter custom greeting or press Enter for default: \")\n",
    "greet(choice if choice else \"Hello\")"
   ]
  },
  {
   "cell_type": "code",
   "execution_count": 10,
   "id": "2de2d3d8-58a0-4cb6-88cb-6c91550b0d89",
   "metadata": {},
   "outputs": [
    {
     "name": "stdin",
     "output_type": "stream",
     "text": [
      "Enter range for Fibonacci:  5\n"
     ]
    },
    {
     "name": "stdout",
     "output_type": "stream",
     "text": [
      "0 1 1 2 3 \n"
     ]
    }
   ],
   "source": [
    "# EP-6: Develop python recursive function to generate Fibonacci series up to given range\n",
    "def fib(n):\n",
    "    if n<=1:\n",
    "        return n\n",
    "    return fib(n-1)+fib(n-2)\n",
    "r=int(input(\"Enter range for Fibonacci: \"))\n",
    "for i in range(r):\n",
    "    print(fib(i),end=\" \")\n",
    "print()"
   ]
  },
  {
   "cell_type": "code",
   "execution_count": 11,
   "id": "744d11ba-44b7-4d77-b2f9-8f13c9e39f59",
   "metadata": {},
   "outputs": [
    {
     "name": "stdin",
     "output_type": "stream",
     "text": [
      "Enter value to add 5:  10\n"
     ]
    },
    {
     "name": "stdout",
     "output_type": "stream",
     "text": [
      "15\n"
     ]
    }
   ],
   "source": [
    "# EP-7: Develop python program to demonstrate lambda function within a function\n",
    "def demo():\n",
    "    f=lambda x:x+5\n",
    "    val=int(input(\"Enter value to add 5: \"))\n",
    "    print(f(val))\n",
    "demo()"
   ]
  },
  {
   "cell_type": "code",
   "execution_count": 12,
   "id": "f0dd6125-8896-40df-8132-23d7798f948e",
   "metadata": {},
   "outputs": [
    {
     "name": "stdin",
     "output_type": "stream",
     "text": [
      "Enter value to triple:  10\n"
     ]
    },
    {
     "name": "stdout",
     "output_type": "stream",
     "text": [
      "30\n"
     ]
    }
   ],
   "source": [
    "# EP-8: Develop python program to demonstrate lambda function as argument to another function\n",
    "def apply(fun,val):\n",
    "    print(fun(val))\n",
    "val=int(input(\"Enter value to triple: \"))\n",
    "apply(lambda x:x*3,val)"
   ]
  },
  {
   "cell_type": "code",
   "execution_count": 13,
   "id": "bace1b50-9e5e-4426-ac1b-cc8b6f64429c",
   "metadata": {},
   "outputs": [
    {
     "name": "stdin",
     "output_type": "stream",
     "text": [
      "Enter radius of circle:  5\n"
     ]
    },
    {
     "name": "stdout",
     "output_type": "stream",
     "text": [
      "Perimeter: 31.400000000000002\n",
      "Area: 78.5\n"
     ]
    }
   ],
   "source": [
    "\n",
    "# EP-9: Develop python program to demonstrate multiple lambda function within a function using circle perimeter and area example\n",
    "def circle(r):\n",
    "    perimeter=lambda r:2*3.14*r\n",
    "    area=lambda r:3.14*r*r\n",
    "    print(\"Perimeter:\",perimeter(r))\n",
    "    print(\"Area:\",area(r))\n",
    "r=float(input(\"Enter radius of circle: \"))\n",
    "circle(r)"
   ]
  },
  {
   "cell_type": "code",
   "execution_count": null,
   "id": "bf185424-4fbe-4748-afc0-eb0b55785e93",
   "metadata": {},
   "outputs": [],
   "source": [
    "# EP-10: Develop python function to demonstrate python document string and help method\n",
    "def sample():\n",
    "    \"\"\"This function shows docstring example\"\"\"\n",
    "    print(\"Docstring Demo\")\n",
    "print(sample.__doc__)\n",
    "help(sample)"
   ]
  }
 ],
 "metadata": {
  "kernelspec": {
   "display_name": "Python 3 (ipykernel)",
   "language": "python",
   "name": "python3"
  },
  "language_info": {
   "codemirror_mode": {
    "name": "ipython",
    "version": 3
   },
   "file_extension": ".py",
   "mimetype": "text/x-python",
   "name": "python",
   "nbconvert_exporter": "python",
   "pygments_lexer": "ipython3",
   "version": "3.13.5"
  }
 },
 "nbformat": 4,
 "nbformat_minor": 5
}
