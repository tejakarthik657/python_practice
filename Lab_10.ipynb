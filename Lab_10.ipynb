{
 "cells": [
  {
   "cell_type": "code",
   "execution_count": null,
   "id": "f72a05b2-a4ad-4c27-88a4-c4d5b22f5868",
   "metadata": {},
   "outputs": [
    {
     "name": "stdout",
     "output_type": "stream",
     "text": [
      "Matrix Operations using NumPy\n"
     ]
    },
    {
     "name": "stdin",
     "output_type": "stream",
     "text": [
      "Enter number of rows for Matrix 1:  3\n",
      "Enter number of columns for Matrix 1:  3\n"
     ]
    },
    {
     "name": "stdout",
     "output_type": "stream",
     "text": [
      "Enter elements for Matrix 1: \n"
     ]
    },
    {
     "name": "stdin",
     "output_type": "stream",
     "text": [
      " 123\n",
      " 123\n",
      " 123\n",
      "Enter number of rows for Matrix 2:  456\n",
      "Enter number of columns for Matrix 2:  456\n"
     ]
    },
    {
     "name": "stdout",
     "output_type": "stream",
     "text": [
      "Enter elements for Matrix 2: \n"
     ]
    },
    {
     "name": "stdin",
     "output_type": "stream",
     "text": [
      " 456\n"
     ]
    }
   ],
   "source": [
    "#SP-1: Write a Python function that takes two matrices as input and performs the \n",
    "import numpy as np\n",
    "\n",
    "def read_matrix(num):\n",
    "    rows = int(input(f\"Enter number of rows for Matrix {num}: \"))\n",
    "    cols = int(input(f\"Enter number of columns for Matrix {num}: \"))\n",
    "    print(f\"Enter elements for Matrix {num}: \")\n",
    "    elements = [list(map(int, input().split())) for _ in range(rows)]\n",
    "    return np.array(elements)\n",
    "\n",
    "def matrix_operations(mat1, mat2):\n",
    "    print(\"\\nAddition Result:\\n\", mat1 + mat2)\n",
    "    print(\"\\nSubtraction Result:\\n\", mat1 - mat2)\n",
    "    print(\"\\nMultiplication Result:\\n\", np.dot(mat1, mat2))\n",
    "\n",
    "# Main\n",
    "print(\"Matrix Operations using NumPy\")\n",
    "mat1 = read_matrix(1)\n",
    "mat2 = read_matrix(2)\n",
    "matrix_operations(mat1, mat2)\n"
   ]
  },
  {
   "cell_type": "code",
   "execution_count": null,
   "id": "4ec6f4e6-4722-4261-90b6-5971c9cbbba2",
   "metadata": {},
   "outputs": [],
   "source": [
    "# SP-2: Python program to manipulate an image (grayscale, blur, resize) using NumPy, PIL, and SciPy\n",
    "\n",
    "import numpy as np\n",
    "from PIL import Image\n",
    "from scipy.ndimage import gaussian_filter\n",
    "\n",
    "# Load image\n",
    "path = input(\"Enter image path: \")\n",
    "img = Image.open(path)\n",
    "\n",
    "# Convert to grayscale\n",
    "gray_img = img.convert('L')\n",
    "\n",
    "# Apply Gaussian blur using scipy\n",
    "blurred = gaussian_filter(np.array(gray_img), sigma=2)\n",
    "\n",
    "# Resize image\n",
    "width = int(input(\"Enter new width: \"))\n",
    "height = int(input(\"Enter new height: \"))\n",
    "resized = Image.fromarray(blurred).resize((width, height))\n",
    "\n",
    "# Save and display result\n",
    "resized.save(\"output_image.jpg\")\n",
    "print(\"Image processed and saved as output_image.jpg\")\n",
    "resized.show()\n"
   ]
  },
  {
   "cell_type": "code",
   "execution_count": null,
   "id": "9df24679-f3b5-47f7-93bd-9a32ec662c16",
   "metadata": {},
   "outputs": [],
   "source": [
    "# SP-3: Python program to perform array analysis and reshaping using NumPy\n",
    "\n",
    "import numpy as np\n",
    "\n",
    "rows = int(input(\"Enter the number of rows: \"))\n",
    "cols = int(input(\"Enter the number of columns: \"))\n",
    "\n",
    "# Taking array input\n",
    "print(\"Enter elements for the array:\")\n",
    "elements = [int(x) for x in input().split()]\n",
    "arr = np.array(elements).reshape(rows, cols)\n",
    "\n",
    "# Operations\n",
    "print(\"Maximum value:\", np.max(arr))\n",
    "print(\"Minimum value:\", np.min(arr))\n",
    "print(\"Mean value:\", np.mean(arr))\n",
    "print(\"Median value:\", np.median(arr))\n",
    "print(\"Standard deviation:\", np.std(arr))\n",
    "\n",
    "# Reshape array\n",
    "reshaped = arr.reshape(-1, 2)\n",
    "print(\"Reshaped array:\\n\", reshaped)\n"
   ]
  },
  {
   "cell_type": "code",
   "execution_count": null,
   "id": "d341b620-3e4a-4500-8626-85ca33ab0515",
   "metadata": {},
   "outputs": [],
   "source": [
    "# EP-1: Python program to demonstrate NumPy indexing and slicing operations\n",
    "\n",
    "import numpy as np\n",
    "\n",
    "# Creating a sample NumPy array\n",
    "arr = np.array([[10, 20, 30, 40],\n",
    "                [50, 60, 70, 80],\n",
    "                [90, 100, 110, 120]])\n",
    "\n",
    "print(\"Original Array:\\n\", arr)\n",
    "\n",
    "# Indexing examples\n",
    "print(\"\\nSingle element arr[1, 2]:\", arr[1, 2])      # Element at 2nd row, 3rd column\n",
    "print(\"First row:\", arr[0])                         # Entire first row\n",
    "print(\"First column:\", arr[:, 0])                   # Entire first column\n",
    "\n",
    "# Slicing examples\n",
    "print(\"\\nSlicing first two rows and columns:\\n\", arr[:2, :2])\n",
    "print(\"Last two columns:\\n\", arr[:, 2:])\n",
    "print(\"Middle elements:\\n\", arr[0:3, 1:3])\n"
   ]
  },
  {
   "cell_type": "code",
   "execution_count": null,
   "id": "f9e7b2f3-f7e7-4d13-8179-be04fd0ba842",
   "metadata": {},
   "outputs": [],
   "source": [
    "# EP-2: Python program to demonstrate creating and manipulating arrays\n",
    "\n",
    "import numpy as np\n",
    "\n",
    "# Creating arrays\n",
    "arr1 = np.array([1, 2, 3, 4, 5])\n",
    "arr2 = np.arange(6, 11)  # creates array [6,7,8,9,10]\n",
    "\n",
    "print(\"Array 1:\", arr1)\n",
    "print(\"Array 2:\", arr2)\n",
    "\n",
    "# Modifying elements\n",
    "arr1[2] = 99\n",
    "print(\"\\nModified Array 1:\", arr1)\n",
    "\n",
    "# Reshaping an array\n",
    "reshaped = np.arange(1, 10).reshape(3, 3)\n",
    "print(\"\\nReshaped 3x3 Array:\\n\", reshaped)\n",
    "\n",
    "# Creating array with range values\n",
    "range_array = np.linspace(1, 5, 5)\n",
    "print(\"\\nArray with equally spaced values (1 to 5):\", range_array)\n",
    "\n",
    "# Performing operations\n",
    "sum_array = arr1 + arr2\n",
    "print(\"\\nElement-wise Addition of arr1 and arr2:\", sum_array)\n"
   ]
  },
  {
   "cell_type": "code",
   "execution_count": null,
   "id": "b2aef1a8-1676-4e8b-b21a-0a2529cfb183",
   "metadata": {},
   "outputs": [],
   "source": [
    "# EP-3: Python program to demonstrate various applications on matrices\n",
    "\n",
    "import numpy as np\n",
    "\n",
    "# 1. Creation of 2D array (matrix)\n",
    "A = np.array([[1, 2], [3, 4]])\n",
    "B = np.array([[5, 6], [7, 8]])\n",
    "print(\"Matrix A:\\n\", A)\n",
    "print(\"Matrix B:\\n\", B)\n",
    "\n",
    "# 2. Creating a zero matrix\n",
    "zero_matrix = np.zeros((2, 2))\n",
    "print(\"\\nZero Matrix:\\n\", zero_matrix)\n",
    "\n",
    "# 3. Matrix operations\n",
    "print(\"\\nAddition:\\n\", A + B)\n",
    "print(\"Subtraction:\\n\", A - B)\n",
    "print(\"Multiplication:\\n\", A * B)   # Element-wise multiplication\n",
    "print(\"Matrix Multiplication (dot product):\\n\", np.dot(A, B))\n",
    "print(\"Transpose of Matrix A:\\n\", A.T)\n"
   ]
  },
  {
   "cell_type": "code",
   "execution_count": null,
   "id": "67a55f21-b220-4382-bd00-8ed73e18ce52",
   "metadata": {},
   "outputs": [],
   "source": [
    "# EP-4: Python program to demonstrate NumPy array operations\n",
    "\n",
    "import numpy as np\n",
    "\n",
    "# Creating two arrays\n",
    "arr1 = np.array([1, 2, 3, 4, 5])\n",
    "arr2 = np.array([5, 4, 3, 2, 1])\n",
    "\n",
    "print(\"Array 1:\", arr1)\n",
    "print(\"Array 2:\", arr2)\n",
    "\n",
    "# Performing various operations\n",
    "print(\"\\nAddition:\", arr1 + arr2)\n",
    "print(\"Subtraction:\", arr2 - arr1)\n",
    "print(\"Multiplication:\", arr1 * arr2)\n",
    "print(\"Division:\", arr2 / arr1)\n",
    "print(\"Exponentiation (arr1 ** arr2):\", np.power(arr1, arr2))\n",
    "print(\"Square Root of arr1:\", np.sqrt(arr1))\n",
    "print(\"Sum of arr2:\", np.sum(arr2))\n",
    "print(\"Maximum of arr1:\", np.max(arr1))\n",
    "print(\"Minimum of arr2:\", np.min(arr2))\n",
    "print(\"Sorted arr1:\", np.sort(arr1))\n"
   ]
  },
  {
   "cell_type": "code",
   "execution_count": null,
   "id": "e0590007-469a-4278-8555-1d5928c96f63",
   "metadata": {},
   "outputs": [],
   "source": [
    "# EP-5: Python program to demonstrate NumPy statistical operations\n",
    "\n",
    "import numpy as np\n",
    "\n",
    "# Creating a NumPy array\n",
    "numbers = np.array([10, 20, 30, 40, 50])\n",
    "\n",
    "print(\"Array:\", numbers)\n",
    "\n",
    "# Performing statistical operations\n",
    "print(\"\\nMean:\", np.mean(numbers))\n",
    "print(\"Median:\", np.median(numbers))\n",
    "print(\"Standard Deviation:\", np.std(numbers))\n",
    "print(\"Variance:\", np.var(numbers))\n",
    "print(\"Maximum:\", np.max(numbers))\n",
    "print(\"Minimum:\", np.min(numbers))\n"
   ]
  },
  {
   "cell_type": "code",
   "execution_count": null,
   "id": "7791f9f0-dc40-45dd-8046-a6de75741648",
   "metadata": {},
   "outputs": [],
   "source": []
  }
 ],
 "metadata": {
  "kernelspec": {
   "display_name": "Python 3 (ipykernel)",
   "language": "python",
   "name": "python3"
  },
  "language_info": {
   "codemirror_mode": {
    "name": "ipython",
    "version": 3
   },
   "file_extension": ".py",
   "mimetype": "text/x-python",
   "name": "python",
   "nbconvert_exporter": "python",
   "pygments_lexer": "ipython3",
   "version": "3.13.5"
  }
 },
 "nbformat": 4,
 "nbformat_minor": 5
}
